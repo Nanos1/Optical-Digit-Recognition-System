{
 "cells": [
  {
   "cell_type": "markdown",
   "id": "23d5b1bf",
   "metadata": {},
   "source": [
    "Import the libraries"
   ]
  },
  {
   "cell_type": "code",
   "execution_count": 1,
   "id": "5af272e6",
   "metadata": {},
   "outputs": [],
   "source": [
    "# various\n",
    "import numpy as np\n",
    "from matplotlib import pyplot as plt\n",
    "import random\n",
    "import scipy.stats\n",
    "import collections\n",
    "\n",
    "# sklearn \n",
    "from sklearn.base import BaseEstimator, ClassifierMixin\n",
    "from sklearn.model_selection import KFold, learning_curve, ShuffleSplit, cross_val_score, train_test_split\n",
    "from sklearn.svm import SVC\n",
    "from sklearn.metrics.pairwise import euclidean_distances\n",
    "from sklearn.decomposition import PCA\n",
    "from sklearn.naive_bayes import GaussianNB\n",
    "from sklearn.neighbors import KNeighborsClassifier\n",
    "from sklearn.ensemble import RandomForestClassifier, VotingClassifier, BaggingClassifier\n",
    "\n",
    "# pytorch\n",
    "from torch.utils.data import Dataset, DataLoader\n",
    "import torch\n",
    "from torch import nn\n",
    "from torch import optim"
   ]
  },
  {
   "cell_type": "markdown",
   "id": "33fa1768",
   "metadata": {},
   "source": [
    "### - - - - Step 1 : Read the data - - - -"
   ]
  },
  {
   "cell_type": "code",
   "execution_count": 2,
   "id": "3be3eb5a",
   "metadata": {
    "scrolled": true
   },
   "outputs": [
    {
     "name": "stdout",
     "output_type": "stream",
     "text": [
      "Train size is 7291 \n",
      "Test size is 2007 \n",
      "Features are 256\n"
     ]
    }
   ],
   "source": [
    "train_path = './pr_lab1_data/data/train.txt'\n",
    "test_path = './pr_lab1_data/data/test.txt'\n",
    "n_samples_train = 0\n",
    "n_samples_test = 0\n",
    "\n",
    "train_size = 7291\n",
    "test_size = 2007\n",
    "n_features = 256\n",
    "\n",
    "with open(train_path) as f:\n",
    "    for i in enumerate(f):\n",
    "        n_samples_train+=1\n",
    "\n",
    "with open(test_path) as f:\n",
    "    for i in enumerate(f):\n",
    "        n_samples_test+=1\n",
    "\n",
    "print(\"Train size is\", n_samples_train,\"\\nTest size is\", n_samples_test,\"\\nFeatures are\",n_features)\n",
    "\n",
    "#Initializing the matrixes\n",
    "X_train = np.zeros((train_size, n_features), dtype=np.float64)\n",
    "X_test = np.zeros((test_size, n_features), dtype=np.float64)\n",
    "y_train = np.zeros(train_size, dtype='int64')\n",
    "y_test = np.zeros(test_size, dtype='int64')\n",
    "\n",
    "#Read data for train\n",
    "with open(train_path) as f:\n",
    "    for i,line in enumerate(f):\n",
    "        #Splitting the lines\n",
    "        line = line.split()\n",
    "        #The 1st element of each line is the label\n",
    "        y_train[i] = int(float(line[0]))\n",
    "        #The remaining 256 elements of each line are the features (pixels) of the label\n",
    "        for j,feature in enumerate(line[1:]):\n",
    "            X_train[i][j] = feature\n",
    "            \n",
    "#Read data for test\n",
    "with open(test_path) as f:\n",
    "    for i,line in enumerate(f):\n",
    "        #Splitting the lines\n",
    "        line = line.split()\n",
    "        #The 1st element of each line is the label\n",
    "        y_test[i] = int(float(line[0]))\n",
    "        #The remaining 256 elements of each line are the features (pixels) of the label\n",
    "        for j,feature in enumerate(line[1:]):\n",
    "            X_test[i][j] = feature"
   ]
  },
  {
   "cell_type": "markdown",
   "id": "e64f29cc",
   "metadata": {},
   "source": [
    "Design the number requested"
   ]
  },
  {
   "cell_type": "markdown",
   "id": "79045fc8",
   "metadata": {},
   "source": [
    "### - - - - - Step 2 : Design the #131 element of the train data - - - - -"
   ]
  },
  {
   "cell_type": "code",
   "execution_count": 3,
   "id": "941cfa14",
   "metadata": {},
   "outputs": [],
   "source": [
    "def show_sample(X, index):\n",
    "    digit_shown = np.reshape(X[index], (16,16))\n",
    "    plt.axis('off')\n",
    "    return plt.imshow(digit_shown, cmap = \"gray\")\n",
    "\n",
    "def show_sample(X,index):\n",
    "    digit_shown = np.reshape(X[index], (16,16))\n",
    "    plt.axis('off')\n",
    "    plt.imshow(digit_shown, cmap= \"gray\")"
   ]
  },
  {
   "cell_type": "code",
   "execution_count": 4,
   "id": "1cc82030",
   "metadata": {},
   "outputs": [
    {
     "data": {
      "image/png": "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\n",
      "text/plain": [
       "<Figure size 432x288 with 1 Axes>"
      ]
     },
     "metadata": {
      "needs_background": "light"
     },
     "output_type": "display_data"
    }
   ],
   "source": [
    "show_sample(X_train, 131)"
   ]
  },
  {
   "cell_type": "markdown",
   "id": "98025c26",
   "metadata": {},
   "source": [
    "### - - - - Step 3: design 1 random sample for each label - - - - "
   ]
  },
  {
   "cell_type": "code",
   "execution_count": 5,
   "id": "ce3c2e8d",
   "metadata": {
    "scrolled": true
   },
   "outputs": [],
   "source": [
    "def plot_digits_samples(X, y):\n",
    "    figure = plt.figure(figsize = (15,6))\n",
    "    rows = 2\n",
    "    cols = 5\n",
    "    for number in range(10):\n",
    "        pick_all_img = [] #Reusable matrix to collect all features for every number from 0-9 \n",
    "        for j, label in enumerate(y):  # for every number from 0 to 9, collect all the features in pick_all_img\n",
    "            if (number == label):\n",
    "                pick_all_img.append(X[j])\n",
    "        #Pick randomly an image for the number\n",
    "        randomly_picked = random.choice(pick_all_img)\n",
    "        figure.add_subplot(rows, cols, number+1)\n",
    "        plt.axis('off')\n",
    "        plt.imshow(np.reshape(randomly_picked, (16,16)),cmap=\"gray\")"
   ]
  },
  {
   "cell_type": "markdown",
   "id": "0108346d",
   "metadata": {},
   "source": [
    "Design images of each number for train data"
   ]
  },
  {
   "cell_type": "code",
   "execution_count": 6,
   "id": "d47d778d",
   "metadata": {},
   "outputs": [
    {
     "data": {
      "image/png": "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\n",
      "text/plain": [
       "<Figure size 1080x432 with 10 Axes>"
      ]
     },
     "metadata": {
      "needs_background": "light"
     },
     "output_type": "display_data"
    }
   ],
   "source": [
    "plot_digits_samples(X_train, y_train)"
   ]
  },
  {
   "cell_type": "markdown",
   "id": "6ef108f5",
   "metadata": {},
   "source": [
    "### - - - - Step 4: Calculate mean value of features - - - - "
   ]
  },
  {
   "cell_type": "code",
   "execution_count": 7,
   "id": "ecb01198",
   "metadata": {},
   "outputs": [],
   "source": [
    "def digit_mean_at_pixel(X, y, digit, pixel):\n",
    "    #Find all number for the given digit\n",
    "    idx_digit = [i for i, label in enumerate(y) if label == digit]\n",
    "    \n",
    "    # Get the requested pixels\n",
    "    pixel_i = pixel[0]\n",
    "    pixel_j = pixel[1]\n",
    "    # Get the requested pixels from idx_i (in each line of X that has the requsted digit, take the pixel(i,j))\n",
    "    idx_digit_pixels = np.take(X[:, pixel_i*16+pixel_j], idx_digit)\n",
    "    mean_digit_pixels = np.mean(idx_digit_pixels)\n",
    "    print(mean_digit_pixels)"
   ]
  },
  {
   "cell_type": "code",
   "execution_count": 8,
   "id": "e95a169c",
   "metadata": {},
   "outputs": [],
   "source": [
    "#forconfirmation\n",
    "def digit_mean_at_pixel_1(X, y, digit, pixel):\n",
    "    X1 = pd.DataFrame(X)\n",
    "    filt = (y == digit)\n",
    "    return X1.loc[filt, pixel[0]*16+pixel[1]].mean()"
   ]
  },
  {
   "cell_type": "code",
   "execution_count": 9,
   "id": "e1a16536",
   "metadata": {},
   "outputs": [
    {
     "name": "stdout",
     "output_type": "stream",
     "text": [
      "-0.5041884422110553\n"
     ]
    }
   ],
   "source": [
    "digit_mean_at_pixel(X_train, y_train, 0, (10,10))"
   ]
  },
  {
   "cell_type": "markdown",
   "id": "f8f45956",
   "metadata": {},
   "source": [
    "Calculate mean value of pixels(10,10) of each image that represents zero "
   ]
  },
  {
   "cell_type": "markdown",
   "id": "b6943ca8",
   "metadata": {},
   "source": [
    "### - - - - Step 5: Calculate the variance of features - - - -"
   ]
  },
  {
   "cell_type": "code",
   "execution_count": 10,
   "id": "8d004106",
   "metadata": {},
   "outputs": [],
   "source": [
    "def digit_variance_at_pixel(X, y, digit, pixel):\n",
    "    #Find all number for the given digit\n",
    "    idx_digit = [i for i, label in enumerate(y) if label == digit]\n",
    "    \n",
    "    #Get the requested pixels\n",
    "    pixel_i = pixel[0]\n",
    "    pixel_j = pixel[1]\n",
    "    #Get the requested pixels from idx_i(in each line of X that has the requsted digit take the pixel(i,j))\n",
    "    idx_digit_pixels = np.take(X[:, pixel_i*16+pixel_j], idx_digit)\n",
    "    variance_digit_pixels = np.var(idx_digit_pixels)\n",
    "    print(variance_digit_pixels)"
   ]
  },
  {
   "cell_type": "code",
   "execution_count": 11,
   "id": "d27df678",
   "metadata": {},
   "outputs": [],
   "source": [
    "# for confirmation\n",
    "def digit_variance_at_pixel_1(X, y, digit, pixel):\n",
    "    X1 = pd.DataFrame(X)\n",
    "    filt = (y == digit)\n",
    "    return X1.loc[filt, pixel[0]*16+pixel[1]].var()"
   ]
  },
  {
   "cell_type": "markdown",
   "id": "c9ae5174",
   "metadata": {},
   "source": [
    "Calculate variance of pixels(10,10) of each image that represents zero"
   ]
  },
  {
   "cell_type": "code",
   "execution_count": 12,
   "id": "06d7fe94",
   "metadata": {},
   "outputs": [
    {
     "name": "stdout",
     "output_type": "stream",
     "text": [
      "0.5245221428814929\n"
     ]
    }
   ],
   "source": [
    "digit_variance_at_pixel(X_train, y_train, 0, (10,10))"
   ]
  },
  {
   "cell_type": "markdown",
   "id": "c139d84d",
   "metadata": {},
   "source": [
    "### - - - - Step 6: Calculate the mean value and variance for all instances of a specific digit - - - - "
   ]
  },
  {
   "cell_type": "code",
   "execution_count": 13,
   "id": "383214b0",
   "metadata": {},
   "outputs": [],
   "source": [
    "def digit_mean(X, y, digit):\n",
    "    #Find all number for the given digit\n",
    "    idx_digit = [i for i, label in enumerate(y) if label == digit]\n",
    "    idx_digit_pixels = np.take(X, idx_digit, axis=0)\n",
    "    mean_digit_pixels = np.mean(idx_digit_pixels, axis = 0, keepdims=True)\n",
    "    return(mean_digit_pixels)"
   ]
  },
  {
   "cell_type": "markdown",
   "id": "5b63b865",
   "metadata": {},
   "source": [
    "Calculate mean value of all pixels of each image that represents zero"
   ]
  },
  {
   "cell_type": "code",
   "execution_count": 14,
   "id": "8318bc0b",
   "metadata": {},
   "outputs": [
    {
     "data": {
      "text/plain": [
       "array([[-0.99862814, -0.99539782, -0.98492295, -0.94125126, -0.83334255,\n",
       "        -0.57142295, -0.13158459,  0.15260804,  0.04628392, -0.35370101,\n",
       "        -0.74124874, -0.92091625, -0.98502513, -0.99718258, -0.99993467,\n",
       "        -1.        , -0.99823451, -0.99346566, -0.94997069, -0.81149414,\n",
       "        -0.48957538,  0.06171608,  0.5263928 ,  0.6825    ,  0.63088945,\n",
       "         0.39957621, -0.04891709, -0.57936348, -0.87249162, -0.96911139,\n",
       "        -0.99679983, -0.99999497, -0.99668174, -0.9728727 , -0.86339531,\n",
       "        -0.56290285, -0.05700168,  0.43772194,  0.6278526 ,  0.61645645,\n",
       "         0.5500134 ,  0.51951173,  0.37973953, -0.06139782, -0.56568928,\n",
       "        -0.87724791, -0.97848995, -0.99811474, -0.99374539, -0.93143049,\n",
       "        -0.68924623, -0.21849832,  0.29654858,  0.5375134 ,  0.44771859,\n",
       "         0.21163149,  0.0910134 ,  0.21372362,  0.39326382,  0.26515327,\n",
       "        -0.17200921, -0.64877387, -0.92078308, -0.99405025, -0.97799246,\n",
       "        -0.82162228, -0.41924121,  0.09449414,  0.46405611,  0.44884757,\n",
       "         0.13969012, -0.18907538, -0.39019849, -0.23883166,  0.11324456,\n",
       "         0.3130067 ,  0.12591374, -0.3365402 , -0.76123116, -0.97002764,\n",
       "        -0.94678392, -0.62979229, -0.14879397,  0.30968174,  0.46998325,\n",
       "         0.23364992, -0.18668425, -0.57253601, -0.74139363, -0.60290536,\n",
       "        -0.21564405,  0.17078894,  0.24475042, -0.07310385, -0.53621943,\n",
       "        -0.91532998, -0.86794556, -0.41327471,  0.05648911,  0.4018727 ,\n",
       "         0.36071106, -0.02580821, -0.48111725, -0.80406198, -0.89878894,\n",
       "        -0.81912982, -0.48869095, -0.02665159,  0.23628894,  0.08193635,\n",
       "        -0.32522781, -0.81318425, -0.75170101, -0.2495469 ,  0.18348911,\n",
       "         0.39500921,  0.18889615, -0.26513568, -0.68222529, -0.90914154,\n",
       "        -0.96112647, -0.90525544, -0.63567755, -0.16189615,  0.2026608 ,\n",
       "         0.15844891, -0.1948258 , -0.69670101, -0.64793216, -0.15201926,\n",
       "         0.2530938 ,  0.348067  ,  0.05766415, -0.42946566, -0.81036851,\n",
       "        -0.95965997, -0.98827806, -0.93402094, -0.68741206, -0.20671189,\n",
       "         0.18481575,  0.20578894, -0.12869347, -0.62338945, -0.61312144,\n",
       "        -0.10246901,  0.29297404,  0.31548911, -0.03203601, -0.53865913,\n",
       "        -0.8793593 , -0.98113735, -0.99009045, -0.92726466, -0.66128894,\n",
       "        -0.14991541,  0.23256784,  0.24436935, -0.1204598 , -0.6351675 ,\n",
       "        -0.6791943 , -0.1241608 ,  0.30576214,  0.34223116, -0.04241374,\n",
       "        -0.57421943, -0.88586013, -0.96591709, -0.95777889, -0.85684506,\n",
       "        -0.50418844,  0.02544221,  0.36323199,  0.248866  , -0.18185092,\n",
       "        -0.72877722, -0.82383082, -0.26320854,  0.27515494,  0.43617588,\n",
       "         0.09984255, -0.46859799, -0.79606533, -0.86990369, -0.81663233,\n",
       "        -0.60312312, -0.1465603 ,  0.33558543,  0.48892462,  0.16248827,\n",
       "        -0.36756198, -0.8678995 , -0.94752261, -0.54919347,  0.07741206,\n",
       "         0.50525544,  0.41234925, -0.0868995 , -0.47579397, -0.53764489,\n",
       "        -0.39347487, -0.05096901,  0.38388358,  0.61753518,  0.42662563,\n",
       "        -0.11107705, -0.66541206, -0.96842211, -0.9939732 , -0.85918174,\n",
       "        -0.37738861,  0.2838526 ,  0.64298827,  0.53982747,  0.2671206 ,\n",
       "         0.20476047,  0.36249832,  0.59526298,  0.73646147,  0.55646817,\n",
       "         0.02170938, -0.57072194, -0.91134171, -0.99459213, -0.99882747,\n",
       "        -0.98417672, -0.8489196 , -0.40532412,  0.25131575,  0.69569598,\n",
       "         0.80123869,  0.80037521,  0.82124288,  0.78654941,  0.52453434,\n",
       "        -0.05047822, -0.62455779, -0.91866918, -0.99191541, -0.99844054,\n",
       "        -0.99966248, -0.99798911, -0.99102764, -0.92893551, -0.70271022,\n",
       "        -0.22043216,  0.28302848,  0.52802513,  0.43905193,  0.04248827,\n",
       "        -0.46701424, -0.82550586, -0.96751089, -0.99652513, -0.99993635,\n",
       "        -1.        ]])"
      ]
     },
     "execution_count": 14,
     "metadata": {},
     "output_type": "execute_result"
    }
   ],
   "source": [
    "digit_mean(X_train, y_train, 0)"
   ]
  },
  {
   "cell_type": "code",
   "execution_count": 15,
   "id": "36db8607",
   "metadata": {},
   "outputs": [],
   "source": [
    "def digit_variance(X, y, digit):\n",
    "    #Find all number for the given digit\n",
    "    idx_digit = [i for i, label in enumerate(y) if label == digit]\n",
    "    idx_digit_pixels = np.take(X, idx_digit, axis=0)\n",
    "    var_digit_pixels = np.var(idx_digit_pixels, axis = 0, keepdims=True)\n",
    "    return(var_digit_pixels)"
   ]
  },
  {
   "cell_type": "markdown",
   "id": "deb57fa4",
   "metadata": {},
   "source": [
    "Calculate variance of all pixels of each image that represents zero"
   ]
  },
  {
   "cell_type": "code",
   "execution_count": 16,
   "id": "b2bc9a5e",
   "metadata": {
    "scrolled": true
   },
   "outputs": [
    {
     "data": {
      "text/plain": [
       "array([[2.24522353e-03, 6.60664324e-03, 1.95906222e-02, 6.29011999e-02,\n",
       "        1.80366523e-01, 3.72113773e-01, 5.31683397e-01, 5.38201451e-01,\n",
       "        5.62586277e-01, 4.57620803e-01, 2.35928060e-01, 8.26775407e-02,\n",
       "        1.21866074e-02, 2.34500854e-03, 2.24866375e-06, 0.00000000e+00,\n",
       "        2.64368538e-03, 6.10332085e-03, 5.44480636e-02, 2.28699335e-01,\n",
       "        4.99539239e-01, 6.43595944e-01, 4.85095565e-01, 3.52517912e-01,\n",
       "        3.92059077e-01, 5.69756780e-01, 6.52171790e-01, 4.12885044e-01,\n",
       "        1.49015927e-01, 3.34867723e-02, 2.23359394e-03, 3.01255019e-08,\n",
       "        5.19968933e-03, 3.14043406e-02, 1.64719909e-01, 4.76196041e-01,\n",
       "        6.88212975e-01, 5.41123797e-01, 3.90035848e-01, 3.87944404e-01,\n",
       "        4.51420740e-01, 4.54064831e-01, 5.59375281e-01, 6.76378581e-01,\n",
       "        4.55974174e-01, 1.47167160e-01, 2.15743605e-02, 1.55225065e-03,\n",
       "        4.14250134e-03, 8.31338097e-02, 3.52827730e-01, 6.87769831e-01,\n",
       "        6.40531551e-01, 4.74022322e-01, 5.59609015e-01, 6.87582449e-01,\n",
       "        7.09481690e-01, 6.50216433e-01, 5.17249956e-01, 6.13797314e-01,\n",
       "        6.91550853e-01, 3.87535977e-01, 9.27101699e-02, 5.11671607e-03,\n",
       "        1.91233659e-02, 2.04962865e-01, 6.06350315e-01, 7.29078317e-01,\n",
       "        5.29251448e-01, 5.57118139e-01, 7.30181544e-01, 7.09741788e-01,\n",
       "        6.18131606e-01, 6.85331627e-01, 7.08739024e-01, 5.67723394e-01,\n",
       "        6.85781330e-01, 6.56826131e-01, 2.70169347e-01, 2.48777237e-02,\n",
       "        4.40481258e-02, 4.17525094e-01, 7.41893314e-01, 6.37627934e-01,\n",
       "        5.36785559e-01, 6.98134899e-01, 7.28897925e-01, 4.73820299e-01,\n",
       "        3.25244359e-01, 4.42922354e-01, 6.79086348e-01, 6.76498667e-01,\n",
       "        6.25518001e-01, 7.46144175e-01, 5.10758201e-01, 7.60489615e-02,\n",
       "        1.12609804e-01, 6.31231461e-01, 7.67757389e-01, 5.87261141e-01,\n",
       "        6.27632746e-01, 7.45198934e-01, 5.83229182e-01, 2.44287010e-01,\n",
       "        1.38475357e-01, 2.20308167e-01, 5.50093421e-01, 7.27105493e-01,\n",
       "        6.41940748e-01, 7.08320788e-01, 6.94365632e-01, 1.72761961e-01,\n",
       "        2.33717525e-01, 7.54848268e-01, 7.24540032e-01, 5.93773296e-01,\n",
       "        7.25387530e-01, 7.21589126e-01, 3.80151193e-01, 1.17049872e-01,\n",
       "        4.31629463e-02, 1.15382993e-01, 4.33837232e-01, 7.16430277e-01,\n",
       "        6.73343080e-01, 6.83425961e-01, 7.76693496e-01, 2.89046094e-01,\n",
       "        3.50143271e-01, 7.94004444e-01, 6.71068418e-01, 6.36107317e-01,\n",
       "        7.72656123e-01, 6.21493569e-01, 2.35721579e-01, 5.07564271e-02,\n",
       "        1.20298356e-02, 7.15366855e-02, 3.84244187e-01, 7.07381026e-01,\n",
       "        6.92010050e-01, 6.60848128e-01, 7.88671667e-01, 3.77639377e-01,\n",
       "        3.85453159e-01, 7.96653182e-01, 6.38708266e-01, 6.40064369e-01,\n",
       "        7.73154301e-01, 5.24443434e-01, 1.50805867e-01, 2.04086378e-02,\n",
       "        9.21239215e-03, 8.39245598e-02, 4.09731584e-01, 7.27420833e-01,\n",
       "        6.72667865e-01, 6.51343035e-01, 7.83557111e-01, 3.63236474e-01,\n",
       "        3.08245992e-01, 7.78624964e-01, 6.37423300e-01, 5.98016017e-01,\n",
       "        7.50765348e-01, 4.82708061e-01, 1.46813586e-01, 4.05543474e-02,\n",
       "        5.44087015e-02, 1.69895741e-01, 5.24522143e-01, 7.39755000e-01,\n",
       "        5.88508845e-01, 6.63348887e-01, 7.53951701e-01, 2.56449766e-01,\n",
       "        1.47593263e-01, 6.97857926e-01, 6.63879804e-01, 5.34052250e-01,\n",
       "        6.96082243e-01, 5.52851679e-01, 2.56729284e-01, 1.76185147e-01,\n",
       "        2.25332767e-01, 4.34228847e-01, 6.92059670e-01, 6.06767985e-01,\n",
       "        4.96949420e-01, 7.10538823e-01, 6.17576926e-01, 1.08324997e-01,\n",
       "        3.41545141e-02, 4.55658561e-01, 6.98377984e-01, 4.74166157e-01,\n",
       "        5.26808505e-01, 6.68390628e-01, 5.35831968e-01, 5.01632217e-01,\n",
       "        5.96725353e-01, 6.71880338e-01, 5.83587900e-01, 3.85821515e-01,\n",
       "        5.48302743e-01, 7.10485997e-01, 3.40957676e-01, 2.11149676e-02,\n",
       "        2.94994568e-03, 1.31128933e-01, 5.52261202e-01, 6.03320745e-01,\n",
       "        3.24756754e-01, 4.16133216e-01, 5.74767302e-01, 6.17614402e-01,\n",
       "        5.54165617e-01, 4.03854659e-01, 2.50737426e-01, 4.10822782e-01,\n",
       "        6.55019488e-01, 4.14925166e-01, 7.81115449e-02, 4.62530349e-03,\n",
       "        7.83832880e-04, 1.51375073e-02, 1.35050409e-01, 4.83963236e-01,\n",
       "        5.43943938e-01, 2.92678118e-01, 2.12346631e-01, 2.11085062e-01,\n",
       "        1.99897341e-01, 2.45083256e-01, 4.35702297e-01, 5.95863439e-01,\n",
       "        3.32083697e-01, 7.24212683e-02, 5.10776923e-03, 2.19946589e-03,\n",
       "        9.47009875e-05, 2.20025030e-03, 6.09510560e-03, 5.49872329e-02,\n",
       "        2.15674529e-01, 4.17635024e-01, 4.38683451e-01, 4.05881790e-01,\n",
       "        4.20528058e-01, 4.46902042e-01, 3.40271867e-01, 1.30177809e-01,\n",
       "        2.49171310e-02, 1.77752743e-03, 4.23882955e-06, 0.00000000e+00]])"
      ]
     },
     "execution_count": 16,
     "metadata": {},
     "output_type": "execute_result"
    }
   ],
   "source": [
    "digit_variance(X_train, y_train, 0)"
   ]
  },
  {
   "cell_type": "markdown",
   "id": "acce67b8",
   "metadata": {},
   "source": [
    "### - - - - Step 7: Design the zero digit of the train data by using digit_mean values - - - -"
   ]
  },
  {
   "cell_type": "code",
   "execution_count": 17,
   "id": "e8e13af0",
   "metadata": {
    "scrolled": false
   },
   "outputs": [
    {
     "data": {
      "image/png": "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\n",
      "text/plain": [
       "<Figure size 432x288 with 1 Axes>"
      ]
     },
     "metadata": {
      "needs_background": "light"
     },
     "output_type": "display_data"
    }
   ],
   "source": [
    "show_sample(digit_mean(X_train, y_train, 0), 0)"
   ]
  },
  {
   "cell_type": "markdown",
   "id": "83572fc4",
   "metadata": {},
   "source": [
    "### - - - - Step 8: Design the zero digit of the train data by using digit_variance values - - - -"
   ]
  },
  {
   "cell_type": "code",
   "execution_count": 18,
   "id": "c980f4ab",
   "metadata": {},
   "outputs": [
    {
     "data": {
      "image/png": "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\n",
      "text/plain": [
       "<Figure size 432x288 with 1 Axes>"
      ]
     },
     "metadata": {
      "needs_background": "light"
     },
     "output_type": "display_data"
    }
   ],
   "source": [
    "show_sample(digit_variance(X_train, y_train, 0), 0)"
   ]
  },
  {
   "cell_type": "markdown",
   "id": "ebbf4086",
   "metadata": {},
   "source": [
    "We see that the digit that is calculated by mean values of each pixel of number zero contains less noise"
   ]
  },
  {
   "cell_type": "markdown",
   "id": "025845ef",
   "metadata": {},
   "source": [
    "### - - - - Step 9a: Calculate the mean and variance values for all digits [0,9] in train data - - - -"
   ]
  },
  {
   "cell_type": "code",
   "execution_count": 19,
   "id": "9cdb1ed4",
   "metadata": {},
   "outputs": [],
   "source": [
    "mean_values = np.zeros((10, n_features))\n",
    "var_values = np.zeros((10, n_features))\n",
    "\n",
    "for i in range(10):\n",
    "    mean_values[i, :] = digit_mean(X_train, y_train, i)\n",
    "    var_values[i, :] = digit_variance(X_train, y_train, i)"
   ]
  },
  {
   "cell_type": "markdown",
   "id": "25d9d224",
   "metadata": {},
   "source": [
    "### - - - - Step 9b: Design the all the digits by the mean values calculated above - - - -"
   ]
  },
  {
   "cell_type": "code",
   "execution_count": 20,
   "id": "9b4da4d0",
   "metadata": {},
   "outputs": [
    {
     "data": {
      "image/png": "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\n",
      "text/plain": [
       "<Figure size 1440x720 with 10 Axes>"
      ]
     },
     "metadata": {
      "needs_background": "light"
     },
     "output_type": "display_data"
    }
   ],
   "source": [
    "figure = plt.figure(figsize=(20,10))\n",
    "rows = 2\n",
    "cols = 5\n",
    "for i in range(10):\n",
    "    figure.add_subplot(rows, cols, i+1)\n",
    "    plt.axis('off')\n",
    "    plt.imshow(np.reshape(mean_values[i, :], (16, 16)), cmap=\"gray\")"
   ]
  },
  {
   "cell_type": "markdown",
   "id": "86b3bb2b",
   "metadata": {},
   "source": [
    "### - - - - Step 10: Classify 101st element of test data, by using the Euclidean distance algorithm - - - - "
   ]
  },
  {
   "cell_type": "markdown",
   "id": "2fde3af3",
   "metadata": {},
   "source": [
    "First create a function that classifies every element of the data, by using the Euclidean algorithm"
   ]
  },
  {
   "cell_type": "code",
   "execution_count": 21,
   "id": "2c331699",
   "metadata": {},
   "outputs": [],
   "source": [
    "def euclidean_distance(s,m):\n",
    "    distance = np.linalg.norm(s-m)\n",
    "    return distance"
   ]
  },
  {
   "cell_type": "code",
   "execution_count": 22,
   "id": "aae8fda0",
   "metadata": {},
   "outputs": [],
   "source": [
    "def euclidean_distance_classifier(X, X_mean):\n",
    "    prediction = 0\n",
    "    dist = euclidean_distance(X, X_mean[0, :])\n",
    "    \n",
    "    for i in range(1,10):\n",
    "        if euclidean_distance(X, X_mean[i, :]) < dist:\n",
    "            dist = euclidean_distance(X, X_mean[i, :])\n",
    "            prediction = i\n",
    "    return prediction"
   ]
  },
  {
   "cell_type": "markdown",
   "id": "0fd8cf84",
   "metadata": {},
   "source": [
    "Classify the element 101 now"
   ]
  },
  {
   "cell_type": "code",
   "execution_count": 23,
   "id": "18aa3ec6",
   "metadata": {},
   "outputs": [
    {
     "name": "stdout",
     "output_type": "stream",
     "text": [
      "0\n"
     ]
    }
   ],
   "source": [
    "print(euclidean_distance_classifier(X_test[101, :], mean_values))"
   ]
  },
  {
   "cell_type": "code",
   "execution_count": 24,
   "id": "65798b07",
   "metadata": {},
   "outputs": [
    {
     "data": {
      "image/png": "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\n",
      "text/plain": [
       "<Figure size 432x288 with 1 Axes>"
      ]
     },
     "metadata": {
      "needs_background": "light"
     },
     "output_type": "display_data"
    }
   ],
   "source": [
    "show_sample(X_test, 101)"
   ]
  },
  {
   "cell_type": "markdown",
   "id": "60d34430",
   "metadata": {},
   "source": [
    "The Euclidean Classifier was wrong about the 101 element"
   ]
  },
  {
   "cell_type": "markdown",
   "id": "e8a9f971",
   "metadata": {},
   "source": [
    "### - - - - Step 11a: Classify all digits by using the Euclidean algorithm - - - -"
   ]
  },
  {
   "cell_type": "code",
   "execution_count": 25,
   "id": "a2cd1f72",
   "metadata": {},
   "outputs": [],
   "source": [
    "predictions = np.zeros(n_samples_test)\n",
    "\n",
    "for i,x in enumerate(X_test):\n",
    "    predictions[i] = euclidean_distance_classifier(x, mean_values)"
   ]
  },
  {
   "cell_type": "markdown",
   "id": "ec399aa1",
   "metadata": {},
   "source": [
    "### - - - - Step 11b: Calculate the accuracy of the Euclidean algorithm - - - -"
   ]
  },
  {
   "cell_type": "code",
   "execution_count": 26,
   "id": "8af41914",
   "metadata": {},
   "outputs": [
    {
     "name": "stdout",
     "output_type": "stream",
     "text": [
      "Accuracy of Euclidean is 81.41504733432984\n"
     ]
    }
   ],
   "source": [
    "correct = 0\n",
    "for i in range(len(y_test)):\n",
    "    if y_test[i] == predictions[i]:\n",
    "        correct+=1\n",
    "accuracy = correct / len(y_test)*100\n",
    "print('Accuracy of Euclidean is', accuracy)"
   ]
  },
  {
   "cell_type": "markdown",
   "id": "823a9f0e",
   "metadata": {},
   "source": [
    "### - - - - Step 12: Create a scikit-learn euclidean estimator - - - -"
   ]
  },
  {
   "cell_type": "code",
   "execution_count": 28,
   "id": "c3e35862",
   "metadata": {},
   "outputs": [],
   "source": [
    "class EuclideanDistanceClassifier(BaseEstimator, ClassifierMixin):\n",
    "    \"\"\"Classify samples based on the distance from the mean feature value\"\"\"\n",
    "\n",
    "    def __init__(self):\n",
    "        self.X_mean_ = None\n",
    "        self.classes_ = None\n",
    "\n",
    "    def fit(self, X, y):\n",
    "        \"\"\"\n",
    "        This should fit classifier. All the \"work\" should be done here.\n",
    "        Calculates self.X_mean_ based on the mean\n",
    "        feature values in X for each class.\n",
    "        self.X_mean_ becomes a numpy.ndarray of shape\n",
    "        (n_classes, n_features)\n",
    "        fit always returns self.\n",
    "        \n",
    "        \"\"\"\n",
    "\n",
    "        #Calculate the number of classes\n",
    "        self.classes_ = np.unique(y)\n",
    "        num_classes = len(self.classes_)\n",
    "        \n",
    "        train_size, n_features = X.shape\n",
    "        self.X_mean_ = np.zeros((num_classes, n_features))\n",
    "        \n",
    "        for k in range(num_classes):\n",
    "            self.X_mean_[k, :] = digit_mean(X, y, k)\n",
    "                                         \n",
    "        return self\n",
    "\n",
    "    def predict(self, X):\n",
    "        \"\"\"\n",
    "        Make predictions for X based on the\n",
    "        euclidean distance from self.X_mean_\n",
    "        \"\"\"\n",
    "        prediction = np.argmin(euclidean_distances(X, self.X_mean_), axis=1)\n",
    "        return prediction\n",
    "\n",
    "    def score(self, X, y):\n",
    "        \"\"\"\n",
    "        Return accuracy score on the predictions\n",
    "        for X based on ground truth y\n",
    "        \"\"\"\n",
    "        corr = 0\n",
    "        y_pred = self.predict(X)\n",
    "        corr = sum(int(y[i] == y_pred[i]) for i in range(len(y)))\n",
    "        acc = corr / len(y)\n",
    "        return acc"
   ]
  },
  {
   "cell_type": "markdown",
   "id": "f8153159",
   "metadata": {},
   "source": [
    "### - - - - Step 13a : Calculate the score of the scikit-learn euclidean estimator  - - - -"
   ]
  },
  {
   "cell_type": "code",
   "execution_count": 29,
   "id": "8945e054",
   "metadata": {},
   "outputs": [
    {
     "name": "stdout",
     "output_type": "stream",
     "text": [
      "CV error = 84.858036 +- 0.181618\n"
     ]
    }
   ],
   "source": [
    "#Evaluate the classifier \n",
    "\n",
    "def evaluate_classifier(clf, X, y_true):\n",
    "    return clf.score(X, y_true)\n",
    "\n",
    "# Create the classifier\n",
    "clf = EuclideanDistanceClassifier()\n",
    "scores = cross_val_score(clf, X_train, y_train, \n",
    "                         cv=KFold(n_splits=5), \n",
    "                         scoring=evaluate_classifier)\n",
    "print(\"CV error = %f +- %f\" % (np.mean(scores)*100, np.std(scores)*100))"
   ]
  },
  {
   "cell_type": "markdown",
   "id": "4ed842e4",
   "metadata": {},
   "source": [
    "### - - - - Step 13b : Create the decision function  - - - -"
   ]
  },
  {
   "cell_type": "code",
   "execution_count": 30,
   "id": "8e9f994e",
   "metadata": {},
   "outputs": [],
   "source": [
    "#Define a function that plots the decision surface of 3-dimensional data\n",
    "def plot_clf(clf, X, y, labels):\n",
    "    \"\"\"This function creates a 2D plane with the points of the dataset, by taking only the first two dimensions.\n",
    "    The decision boundaries are -as expected- the horizontal lines y=0, 1, ..., 10.\n",
    "    Each point is colored according to the number that represents. Points that represent the same number have \n",
    "    the same colour. It also draws the decision surface.\"\"\"\n",
    "    fig, ax = plt.subplots()\n",
    "    # title for the plots\n",
    "    title = ('Decision surface of Classifier')\n",
    "    # Set-up grid for plotting.\n",
    "    X0, X1 = X[:, 0], X[:, 1]\n",
    "    \n",
    "    \n",
    "    x_min, x_max = X0.min() - 1, X0.max() + 1\n",
    "    y_min, y_max = X1.min() - 1, X1.max() + 1\n",
    "    xx, yy = np.meshgrid(np.arange(x_min, x_max, .05),\n",
    "                         np.arange(y_min, y_max, .05))\n",
    "\n",
    "    Z = clf.predict(np.c_[xx.ravel(), yy.ravel()])\n",
    "    Z = Z.reshape(xx.shape)\n",
    "\n",
    "    out = ax.contourf(xx, yy, Z, cmap=plt.cm.coolwarm, alpha=0.8)\n",
    "    \n",
    "    zero = ax.scatter(\n",
    "        X0[y == 0], X1[y == 0],\n",
    "        c='blue', label=labels[0],\n",
    "        s=60, alpha=0.9, edgecolors='k')\n",
    "    \n",
    "    one = ax.scatter(\n",
    "        X0[y == 1], X1[y == 1],\n",
    "        c='red', label=labels[1], \n",
    "        s=60, alpha=0.9, edgecolors='k')\n",
    "    \n",
    "    two = ax.scatter(\n",
    "        X0[y == 2], X1[y == 2],\n",
    "        c='purple', label=labels[2], \n",
    "        s=60, alpha=0.9, edgecolors='k')\n",
    "    \n",
    "    three = ax.scatter(\n",
    "        X0[y == 3], X1[y == 3],\n",
    "        c='green', label=labels[3],\n",
    "        s=60, alpha=0.9, edgecolors='k')\n",
    "    \n",
    "    four = ax.scatter(\n",
    "        X0[y == 4], X1[y == 4],\n",
    "        c='gray', label=labels[4], \n",
    "        s=60, alpha=0.9, edgecolors='k')\n",
    "    \n",
    "    five = ax.scatter(\n",
    "        X0[y == 5], X1[y == 5],\n",
    "        c='orange', label=labels[5], \n",
    "        s=60, alpha=0.9, edgecolors='k')\n",
    "    \n",
    "    six = ax.scatter(\n",
    "        X0[y == 6], X1[y == 6],\n",
    "        c='black', label=labels[6],\n",
    "        s=60, alpha=0.9, edgecolors='k')\n",
    "    \n",
    "    seven = ax.scatter(\n",
    "        X0[y == 7], X1[y == 7],\n",
    "        c='pink', label=labels[7], \n",
    "        s=60, alpha=0.9, edgecolors='k')\n",
    "    \n",
    "    eight = ax.scatter(\n",
    "        X0[y == 8], X1[y == 8],\n",
    "        c='white', label=labels[8], \n",
    "        s=60, alpha=0.9, edgecolors='k')\n",
    "    \n",
    "    nine = ax.scatter(\n",
    "        X0[y == 9], X1[y == 9],\n",
    "        c='yellow', label=labels[9],\n",
    "        s=60, alpha=0.9, edgecolors='k')\n",
    "\n",
    "    ax.set_xticks(())\n",
    "    ax.set_yticks(())\n",
    "    ax.set_title(title)\n",
    "    ax.legend()\n",
    "    plt.show()"
   ]
  },
  {
   "cell_type": "code",
   "execution_count": 31,
   "id": "94db6dd4",
   "metadata": {},
   "outputs": [
    {
     "data": {
      "image/png": "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\n",
      "text/plain": [
       "<Figure size 432x288 with 1 Axes>"
      ]
     },
     "metadata": {},
     "output_type": "display_data"
    }
   ],
   "source": [
    "clf = EuclideanDistanceClassifier()\n",
    "\n",
    "plot_clf(clf, X_test, y_test, [i for i in range(10)] )"
   ]
  },
  {
   "cell_type": "markdown",
   "id": "bdc15e8b",
   "metadata": {},
   "source": [
    "The plot above, shows only the first two components of the data of the test set. The decision surfaces that we consider to be strait lines (y=k, for k in {0, 1, ..., 9}) make wrong classifications since valuable information is missing. We could experiment with different combinations of 2 components of the test data, which might produce sligtly better or worse results, but it is obvious that we need a method that reduces the dimensionality of the data and, thus, exploits all the information provided. As a dimensionality reduction methid, we applied the PCA method."
   ]
  },
  {
   "cell_type": "code",
   "execution_count": 32,
   "id": "5787e926",
   "metadata": {},
   "outputs": [],
   "source": [
    "#Define PCA\n",
    "pca = PCA(n_components=2)\n",
    "pca.fit(X_train)\n",
    "#Apply PCA on train and test set\n",
    "X_train_2d = pca.transform(X_train)\n",
    "X_test_2d = pca.transform(X_test)"
   ]
  },
  {
   "cell_type": "code",
   "execution_count": 33,
   "id": "3be005bd",
   "metadata": {},
   "outputs": [
    {
     "data": {
      "image/png": "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\n",
      "text/plain": [
       "<Figure size 432x288 with 1 Axes>"
      ]
     },
     "metadata": {},
     "output_type": "display_data"
    }
   ],
   "source": [
    "clf = EuclideanDistanceClassifier()\n",
    "clf.fit(X_train_2d, y_train)\n",
    "\n",
    "plot_clf(clf, X_test_2d, y_test, [i for i in range(10)] )"
   ]
  },
  {
   "cell_type": "raw",
   "id": "08a2599b",
   "metadata": {},
   "source": [
    "We can see that there are only 5 decision regions, since some digits were more frequent in the dataset than others. Low-frequency digits might also be sparce and overshadowed by the larger -and thus more dense- clusters of points-digits. "
   ]
  },
  {
   "cell_type": "markdown",
   "id": "f0c90a3c",
   "metadata": {},
   "source": [
    "### - - - - Step 13c: - - - - "
   ]
  },
  {
   "cell_type": "code",
   "execution_count": 35,
   "id": "1d8cda98",
   "metadata": {},
   "outputs": [],
   "source": [
    "#From https://scikit-learn.org/stable/auto_examples/model_selection/plot_learning_curve.html\n",
    "\n",
    "def plot_learning_curve(estimator, title, X, y, ylim=None, cv=None,\n",
    "                        n_jobs=None, train_sizes=np.linspace(.1, 1.0, 5)):\n",
    "    \"\"\"\n",
    "    Generate a simple plot of the test and training learning curve.\n",
    "\n",
    "    Parameters\n",
    "    ----------\n",
    "    estimator : object type that implements the \"fit\" and \"predict\" methods\n",
    "        An object of that type which is cloned for each validation.\n",
    "\n",
    "    title : string\n",
    "        Title for the chart.\n",
    "\n",
    "    X : array-like, shape (n_samples, n_features)\n",
    "        Training vector, where n_samples is the number of samples and\n",
    "        n_features is the number of features.\n",
    "\n",
    "    y : array-like, shape (n_samples) or (n_samples, n_features), optional\n",
    "        Target relative to X for classification or regression;\n",
    "        None for unsupervised learning.\n",
    "\n",
    "    ylim : tuple, shape (ymin, ymax), optional\n",
    "        Defines minimum and maximum yvalues plotted.\n",
    "\n",
    "    cv : int, cross-validation generator or an iterable, optional\n",
    "        Determines the cross-validation splitting strategy.\n",
    "        Possible inputs for cv are:\n",
    "          - None, to use the default 3-fold cross-validation,\n",
    "          - integer, to specify the number of folds.\n",
    "          - :term:`CV splitter`,\n",
    "          - An iterable yielding (train, test) splits as arrays of indices.\n",
    "\n",
    "        For integer/None inputs, if ``y`` is binary or multiclass,\n",
    "        :class:`StratifiedKFold` used. If the estimator is not a classifier\n",
    "        or if ``y`` is neither binary nor multiclass, :class:`KFold` is used.\n",
    "\n",
    "        Refer :ref:`User Guide <cross_validation>` for the various\n",
    "        cross-validators that can be used here.\n",
    "\n",
    "    n_jobs : int or None, optional (default=None)\n",
    "        Number of jobs to run in parallel.\n",
    "        ``None`` means 1 unless in a :obj:`joblib.parallel_backend` context.\n",
    "        ``-1`` means using all processors. See :term:`Glossary <n_jobs>`\n",
    "        for more details.\n",
    "\n",
    "    train_sizes : array-like, shape (n_ticks,), dtype float or int\n",
    "        Relative or absolute numbers of training examples that will be used to\n",
    "        generate the learning curve. If the dtype is float, it is regarded as a\n",
    "        fraction of the maximum size of the training set (that is determined\n",
    "        by the selected validation method), i.e. it has to be within (0, 1].\n",
    "        Otherwise it is interpreted as absolute sizes of the training sets.\n",
    "        Note that for classification the number of samples usually have to\n",
    "        be big enough to contain at least one sample from each class.\n",
    "        (default: np.linspace(0.1, 1.0, 5))\n",
    "    \"\"\"\n",
    "    plt.figure()\n",
    "    plt.title(title)\n",
    "    if ylim is not None:\n",
    "        plt.ylim(*ylim)\n",
    "    plt.xlabel(\"Training examples\")\n",
    "    plt.ylabel(\"Score\")\n",
    "    train_sizes, train_scores, test_scores = learning_curve(\n",
    "        estimator, X, y, cv=cv, n_jobs=n_jobs, train_sizes=train_sizes)\n",
    "    train_scores_mean = np.mean(train_scores, axis=1)\n",
    "    train_scores_std = np.std(train_scores, axis=1)\n",
    "    test_scores_mean = np.mean(test_scores, axis=1)\n",
    "    test_scores_std = np.std(test_scores, axis=1)\n",
    "    plt.grid()\n",
    "\n",
    "    plt.fill_between(train_sizes, train_scores_mean - train_scores_std,\n",
    "                     train_scores_mean + train_scores_std, alpha=0.1,\n",
    "                     color=\"r\")\n",
    "    plt.fill_between(train_sizes, test_scores_mean - test_scores_std,\n",
    "                     test_scores_mean + test_scores_std, alpha=0.1, color=\"g\")\n",
    "    plt.plot(train_sizes, train_scores_mean, 'o-', color=\"r\",\n",
    "             label=\"Training score\")\n",
    "    plt.plot(train_sizes, test_scores_mean, 'o-', color=\"g\",\n",
    "             label=\"Cross-validation score\")\n",
    "\n",
    "    plt.legend(loc=\"best\")\n",
    "    return plt"
   ]
  },
  {
   "cell_type": "code",
   "execution_count": 36,
   "id": "dca9c243",
   "metadata": {},
   "outputs": [
    {
     "data": {
      "image/png": "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\n",
      "text/plain": [
       "<Figure size 432x288 with 1 Axes>"
      ]
     },
     "metadata": {
      "needs_background": "light"
     },
     "output_type": "display_data"
    }
   ],
   "source": [
    "title = \"Learning Curve of Euclidean Classifier\"\n",
    "cv = ShuffleSplit(n_splits=100, test_size=0.2, random_state=0)\n",
    "estimator = EuclideanDistanceClassifier()\n",
    "plot_learning_curve(estimator, title, X_train, y_train, (0.8, 0.9), cv=cv, n_jobs=-1)\n",
    "\n",
    "plt.show()"
   ]
  },
  {
   "cell_type": "markdown",
   "id": "ed3033f1",
   "metadata": {},
   "source": [
    "### - - - - Step 14: Compute the a-priori probabilities of each class - - - - ###\n",
    "\\begin{align}\n",
    "a-priori(i) = \\frac{N(i)}{N}\n",
    "\\end{align}\n",
    "\n",
    "N(i) is the number that the digit-i appears, and N is the training size"
   ]
  },
  {
   "cell_type": "code",
   "execution_count": 37,
   "id": "8f82ae87",
   "metadata": {},
   "outputs": [],
   "source": [
    "def calculate_priors(X, y):\n",
    "    apriori = [i / n_samples_train for i in list(collections.OrderedDict(sorted(collections.Counter(y_train).items())).values())]\n",
    "    return apriori"
   ]
  },
  {
   "cell_type": "code",
   "execution_count": 38,
   "id": "93652108",
   "metadata": {
    "scrolled": true
   },
   "outputs": [
    {
     "name": "stdout",
     "output_type": "stream",
     "text": [
      "Digit 0 : 0.16376354409546015\n",
      "Digit 1 : 0.13784117405019888\n",
      "Digit 2 : 0.10026059525442327\n",
      "Digit 3 : 0.09024825126868742\n",
      "Digit 4 : 0.08942531888629818\n",
      "Digit 5 : 0.07625840076807022\n",
      "Digit 6 : 0.09107118365107666\n",
      "Digit 7 : 0.08846523110684405\n",
      "Digit 8 : 0.07433822520916199\n",
      "Digit 9 : 0.08832807570977919\n"
     ]
    }
   ],
   "source": [
    "apriori = calculate_priors(X_train, y_train)\n",
    "for i in range (10):\n",
    "    print(\"Digit \" + str(i) + \" : \" + str(apriori[i]))"
   ]
  },
  {
   "cell_type": "markdown",
   "id": "e684ebc8",
   "metadata": {},
   "source": [
    "Testing if apriori probabilities sum is equal to 1"
   ]
  },
  {
   "cell_type": "code",
   "execution_count": 39,
   "id": "b831fa0b",
   "metadata": {},
   "outputs": [
    {
     "name": "stdout",
     "output_type": "stream",
     "text": [
      "Sum of a-priori is : 1.0\n"
     ]
    }
   ],
   "source": [
    "print(\"Sum of a-priori is : \" + str(sum(apriori)))"
   ]
  },
  {
   "cell_type": "markdown",
   "id": "61887f74",
   "metadata": {},
   "source": [
    "### - - - - Step 15a: Create a Naive Bayes classifier based on  scikit-learn- - - - ###\n",
    "\n",
    "Naive Bayes Classifier : \n",
    "    \\begin{align}\n",
    "        P(A | B) = \\frac{P(B | A) * P(A)}{P(B)}\n",
    "     \\end{align}"
   ]
  },
  {
   "cell_type": "code",
   "execution_count": 40,
   "id": "1742a4af",
   "metadata": {},
   "outputs": [],
   "source": [
    "class CustomNBClassifier(BaseEstimator, ClassifierMixin): \n",
    "    \"\"\"Classify samples based on the Gaussian Naive Bayes\"\"\"\n",
    "\n",
    "    def __init__(self):\n",
    "        self.X_mean_ = None\n",
    "        self.X_var_ = None\n",
    "        self.prior = None\n",
    "        self.n_classes = None\n",
    "\n",
    "\n",
    "    def fit(self, X, y):\n",
    "        \"\"\"\n",
    "        This should fit classifier. All the \"work\" should be done here.\n",
    "        \n",
    "        Calculates self.X_mean_ and self.X_var_ based on the mean \n",
    "        feature values in X for each class. Also, calculates self.prior\n",
    "        that contains the prior probability of each class.\n",
    "        \n",
    "        self.X_mean_ becomes a numpy.ndarray of shape \n",
    "        (n_classes, n_features)\n",
    "        \n",
    "        self.X_var_ becomes a numpy.ndarray of shape \n",
    "        (n_classes, n_features)\n",
    "        \n",
    "        self.prior becomes a numpy.array of shape \n",
    "        (n_classes)\n",
    "        \n",
    "        fit always returns self.\n",
    "        \"\"\"\n",
    "\n",
    "        #Initialize useful variables\n",
    "        train_size, n_features = X.shape\n",
    "        self.n_classes = len(np.unique(y))\n",
    "        self.X_mean_ = np.zeros((self.n_classes, n_features))\n",
    "        self.X_var_ = np.zeros((self.n_classes, n_features))\n",
    "\n",
    "        #Compute mean and variance values for each class\n",
    "        for k in range(self.n_classes):\n",
    "            self.X_mean_[k, :] = digit_mean(X, y, k)\n",
    "            self.X_var_[k, :] = digit_variance(X, y, k)\n",
    "\n",
    "        #Compute prior probabilities for each class\n",
    "        self.prior = calculate_priors(X, y)\n",
    "        \n",
    "        return self\n",
    "        \n",
    "\n",
    "    def predict(self, X, smooth=None):\n",
    "        \"\"\"\n",
    "        Make predictions for X based on\n",
    "        the highest posterior probability\n",
    "        \"\"\"\n",
    "        \n",
    "        # Compute likelihood\n",
    "        likelihood = np.zeros((self.n_classes, len(X)))\n",
    "        # Define e for calculation stability (division by zero).\n",
    "        if smooth:\n",
    "            e = smooth\n",
    "        else:\n",
    "            e = 10**(-9)\n",
    "        for i in range(self.n_classes):\n",
    "            likelihood[i] = np.prod(1/(np.sqrt(2*np.pi*self.X_var_[i]+ e)) * \\\n",
    "                              np.exp(-0.5*((X - self.X_mean_[i])**2 / (self.X_var_[i] + e))), axis=1)\n",
    "        return np.argmax(likelihood.T * self.prior, axis=1)\n",
    "    \n",
    "    def score(self, X, y, smooth=None):\n",
    "        \"\"\"\n",
    "        Return accuracy score on the predictions\n",
    "        for X based on ground truth y\n",
    "        \"\"\"\n",
    "        corr = 0\n",
    "        y_pred = self.predict(X, smooth)\n",
    "        corr = sum(int(y[i] == y_pred[i]) for i in range(len(y)))\n",
    "        acc = corr / len(y)\n",
    "        return acc"
   ]
  },
  {
   "cell_type": "markdown",
   "id": "16df88e0",
   "metadata": {},
   "source": [
    "### - - - - Step 15b: Compute the accuracy of the custom Classifier using different smoothing parameters- - - - ###"
   ]
  },
  {
   "cell_type": "code",
   "execution_count": 41,
   "id": "21e31ca8",
   "metadata": {},
   "outputs": [
    {
     "name": "stdout",
     "output_type": "stream",
     "text": [
      "Accuracy of custom Naive Bayes Classifier\n",
      "\n",
      "Smoothing 1e-9: 0.7169905331340309\n"
     ]
    },
    {
     "name": "stderr",
     "output_type": "stream",
     "text": [
      "C:\\Users\\nanos\\miniconda3\\lib\\site-packages\\numpy\\core\\fromnumeric.py:86: RuntimeWarning: overflow encountered in reduce\n",
      "  return ufunc.reduce(obj, axis, dtype, out, **passkwargs)\n",
      "C:\\Users\\nanos\\miniconda3\\lib\\site-packages\\numpy\\core\\fromnumeric.py:86: RuntimeWarning: invalid value encountered in reduce\n",
      "  return ufunc.reduce(obj, axis, dtype, out, **passkwargs)\n"
     ]
    },
    {
     "name": "stdout",
     "output_type": "stream",
     "text": [
      "Smoothing 1e-7: 0.726457399103139\n",
      "Smoothing 1e-6: 0.7309417040358744\n",
      "Smoothing 1e-5: 0.7384155455904334\n",
      "Smoothing 1e-4: 0.7493771798704534\n",
      "Smoothing 1e-3: 0.7608370702541106\n",
      "Smoothing 1e-2: 0.7767812655705032\n",
      "Smoothing 1: 0.3024414549078226\n"
     ]
    }
   ],
   "source": [
    "#Define a custom scorer\n",
    "def my_scorer(clf, X, y_true):\n",
    "    return clf.score(X, y_true)\n",
    "\n",
    "#Define the classifier \n",
    "gaussNB_np = CustomNBClassifier()\n",
    "gaussNB_np.fit(X_train, y_train)\n",
    "\n",
    "print(\"Accuracy of custom Naive Bayes Classifier\")\n",
    "print()\n",
    "\n",
    "# Predict using default smoothing.\n",
    "print(\"Smoothing 1e-9: \" + str(gaussNB_np.score(X_test, y_test)))\n",
    "\n",
    "# Predict using 1e-7 smoothing.\n",
    "print(\"Smoothing 1e-7: \" + str(gaussNB_np.score(X_test, y_test, smooth=10**(-7))))\n",
    "\n",
    "# Predict using 1e-6 smoothing.\n",
    "print(\"Smoothing 1e-6: \" + str(gaussNB_np.score(X_test, y_test, smooth=10**(-6))))\n",
    "\n",
    "# Predict using 1e-5 smoothing.\n",
    "print(\"Smoothing 1e-5: \" + str(gaussNB_np.score(X_test, y_test, smooth=10**(-5))))\n",
    "\n",
    "# Predict using 1e-4 smoothing.\n",
    "print(\"Smoothing 1e-4: \" + str(gaussNB_np.score(X_test, y_test, smooth=10**(-4))))\n",
    "\n",
    "# Predict using 1e-3 smoothing.\n",
    "print(\"Smoothing 1e-3: \" + str(gaussNB_np.score(X_test, y_test, smooth=10**(-3))))\n",
    "\n",
    "# Predict using 1e-2 smoothing.\n",
    "print(\"Smoothing 1e-2: \" + str(gaussNB_np.score(X_test, y_test, smooth=10**(-2))))\n",
    "\n",
    "# Predict using 1 smoothing.\n",
    "print(\"Smoothing 1: \" + str(gaussNB_np.score(X_test, y_test, smooth=1)))"
   ]
  },
  {
   "cell_type": "markdown",
   "id": "aef92fcf",
   "metadata": {},
   "source": [
    "### - - - - Step 15c: Compare our custom implementation with scikit-learn GaussianNB- - - - ###"
   ]
  },
  {
   "cell_type": "code",
   "execution_count": 42,
   "id": "8c5215c8",
   "metadata": {},
   "outputs": [
    {
     "name": "stdout",
     "output_type": "stream",
     "text": [
      "Accuracy of sklearn GaussianNB classifier\n",
      "\n",
      "0.7194818136522172\n"
     ]
    }
   ],
   "source": [
    "#Define the sklearn classifier (default smoothing is 1e-9)\n",
    "gaussNB = GaussianNB()\n",
    "\n",
    "gaussNB.fit(X_train, y_train)\n",
    "\n",
    "print(\"Accuracy of sklearn GaussianNB classifier\")\n",
    "print()\n",
    "\n",
    "print(gaussNB.score(X_test, y_test))"
   ]
  },
  {
   "cell_type": "markdown",
   "id": "ffa0cad9",
   "metadata": {},
   "source": [
    "We observe that the accuracy between the custom and the sklearn Naive Bayes classifiers are very close. Changing the smoothing factor, leads to a littles better results at the custom implementation."
   ]
  },
  {
   "cell_type": "markdown",
   "id": "c70c5865",
   "metadata": {},
   "source": [
    "### - - - - Step 16: Suppose that the variance of all features for all classes is 1 - - - - ###"
   ]
  },
  {
   "cell_type": "code",
   "execution_count": 43,
   "id": "457b4e58",
   "metadata": {},
   "outputs": [],
   "source": [
    "class CustomNBClassifier_var1(BaseEstimator, ClassifierMixin): \n",
    "    \"\"\"Classify samples based on the Gaussian Naive Bayes\"\"\"\n",
    "\n",
    "    def __init__(self):\n",
    "        self.X_mean_ = None\n",
    "        self.X_var_ = None\n",
    "        self.prior = None\n",
    "        self.n_classes = None\n",
    "\n",
    "\n",
    "    def fit(self, X, y):\n",
    "        \"\"\"\n",
    "        This should fit classifier. All the \"work\" should be done here.\n",
    "        \n",
    "        Calculates self.X_mean_ and self.X_var_ based on the mean \n",
    "        feature values in X for each class. Also, calculates self.prior\n",
    "        that contains the prior probability of each class.\n",
    "        \n",
    "        self.X_mean_ becomes a numpy.ndarray of shape \n",
    "        (n_classes, n_features)\n",
    "        \n",
    "        self.X_var_ becomes a numpy.ndarray of shape \n",
    "        (n_classes, n_features)\n",
    "        \n",
    "        self.prior becomes a numpy.array of shape \n",
    "        (n_classes)\n",
    "        \n",
    "        fit always returns self.\n",
    "        \"\"\"\n",
    "\n",
    "        #Initialize useful variables\n",
    "        train_size, n_features = X.shape\n",
    "        self.n_classes = len(np.unique(y))\n",
    "        self.X_mean_ = np.zeros((self.n_classes, n_features))\n",
    "        self.X_var_ = np.ones((self.n_classes, n_features))\n",
    "\n",
    "        #Compute mean and variance values for each class\n",
    "        for k in range(self.n_classes):\n",
    "            self.X_mean_[k, :] = digit_mean(X, y, k)\n",
    "\n",
    "        #Compute prior probabilities for each class\n",
    "        self.prior = calculate_priors(X, y)\n",
    "        \n",
    "        return self\n",
    "        \n",
    "\n",
    "    def predict(self, X, smooth=None):\n",
    "        \"\"\"\n",
    "        Make predictions for X based on\n",
    "        the highest posterior probability\n",
    "        \"\"\"\n",
    "        \n",
    "        # Compute likelihood\n",
    "        likelihood = np.zeros((self.n_classes, len(X)))\n",
    "        # Define e for calculation stability (division by zero).\n",
    "        if smooth:\n",
    "            e = smooth\n",
    "        else:\n",
    "            e = 10**(-9)\n",
    "        for i in range(self.n_classes):\n",
    "            likelihood[i] = np.prod(1/(np.sqrt(2*np.pi*self.X_var_[i]+ e)) * \\\n",
    "                              np.exp(-0.5*((X - self.X_mean_[i])**2 / (self.X_var_[i] + e))), axis=1)\n",
    "        return np.argmax(likelihood.T * self.prior, axis=1)\n",
    "    \n",
    "    def score(self, X, y, smooth=None):\n",
    "        \"\"\"\n",
    "        Return accuracy score on the predictions\n",
    "        for X based on ground truth y\n",
    "        \"\"\"\n",
    "        corr = 0\n",
    "        y_pred = self.predict(X, smooth)\n",
    "        corr = sum(int(y[i] == y_pred[i]) for i in range(len(y)))\n",
    "        acc = corr / len(y)\n",
    "        return acc"
   ]
  },
  {
   "cell_type": "code",
   "execution_count": 44,
   "id": "11dc67ad",
   "metadata": {},
   "outputs": [
    {
     "name": "stdout",
     "output_type": "stream",
     "text": [
      "Accuracy of custom Naive Bayes Classifier\n",
      "\n",
      "Smoothing 1e-9: 0.8126557050323866\n",
      "Smoothing 1e-7: 0.8126557050323866\n",
      "Smoothing 1e-6: 0.8126557050323866\n",
      "Smoothing 1e-5: 0.8126557050323866\n",
      "Smoothing 1e-4: 0.8126557050323866\n",
      "Smoothing 1e-3: 0.8126557050323866\n",
      "Smoothing 1e-2: 0.8126557050323866\n",
      "Smoothing 1: 0.8121574489287494\n"
     ]
    }
   ],
   "source": [
    "#Define a custom scorer\n",
    "def my_scorer_var1(clf, X, y_true):\n",
    "    return clf.score(X, y_true)\n",
    "\n",
    "#Define the classifier \n",
    "gaussNB_np = CustomNBClassifier_var1()\n",
    "gaussNB_np.fit(X_train, y_train)\n",
    "\n",
    "print(\"Accuracy of custom Naive Bayes Classifier\")\n",
    "print()\n",
    "\n",
    "# Predict using default smoothing.\n",
    "print(\"Smoothing 1e-9: \" + str(gaussNB_np.score(X_test, y_test)))\n",
    "\n",
    "# Predict using 1e-7 smoothing.\n",
    "print(\"Smoothing 1e-7: \" + str(gaussNB_np.score(X_test, y_test, smooth=10**(-7))))\n",
    "\n",
    "# Predict using 1e-6 smoothing.\n",
    "print(\"Smoothing 1e-6: \" + str(gaussNB_np.score(X_test, y_test, smooth=10**(-6))))\n",
    "\n",
    "# Predict using 1e-5 smoothing.\n",
    "print(\"Smoothing 1e-5: \" + str(gaussNB_np.score(X_test, y_test, smooth=10**(-5))))\n",
    "\n",
    "# Predict using 1e-4 smoothing.\n",
    "print(\"Smoothing 1e-4: \" + str(gaussNB_np.score(X_test, y_test, smooth=10**(-4))))\n",
    "\n",
    "# Predict using 1e-3 smoothing.\n",
    "print(\"Smoothing 1e-3: \" + str(gaussNB_np.score(X_test, y_test, smooth=10**(-3))))\n",
    "\n",
    "# Predict using 1e-2 smoothing.\n",
    "print(\"Smoothing 1e-2: \" + str(gaussNB_np.score(X_test, y_test, smooth=10**(-2))))\n",
    "\n",
    "# Predict using 1 smoothing.\n",
    "print(\"Smoothing 1: \" + str(gaussNB_np.score(X_test, y_test, smooth=1)))"
   ]
  },
  {
   "cell_type": "markdown",
   "id": "9766c853",
   "metadata": {},
   "source": [
    "### - - - - Step 17: Compare the performance of Naive Bayes, Nearest Neighbors, SVM using different kernels - - - - ###"
   ]
  },
  {
   "cell_type": "code",
   "execution_count": 45,
   "id": "a919526a",
   "metadata": {},
   "outputs": [
    {
     "name": "stdout",
     "output_type": "stream",
     "text": [
      "Accuracy of Nearest Neighbors using different k neighbors\n",
      "\n",
      "Neighbors = 3: 0.9446935724962631\n",
      "Neighbors = 6: 0.9387144992526159\n",
      "Neighbors = 9: 0.9372197309417041\n"
     ]
    }
   ],
   "source": [
    "# Define Nearest Neighbors classifier using 3,6  and 9 neighbors\n",
    "\n",
    "neigh3 = KNeighborsClassifier(n_neighbors=3)\n",
    "neigh3.fit(X_train, y_train)\n",
    "\n",
    "neigh6 = KNeighborsClassifier(n_neighbors=6)\n",
    "neigh6.fit(X_train, y_train)\n",
    "\n",
    "neigh9 = KNeighborsClassifier(n_neighbors=9)\n",
    "neigh9.fit(X_train, y_train)\n",
    "\n",
    "print(\"Accuracy of Nearest Neighbors using different k neighbors\")\n",
    "print()\n",
    "\n",
    "print(\"Neighbors = 3: \" + str(neigh3.score(X_test, y_test)))\n",
    "print(\"Neighbors = 6: \" + str(neigh6.score(X_test, y_test)))\n",
    "print(\"Neighbors = 9: \" + str(neigh9.score(X_test, y_test)))"
   ]
  },
  {
   "cell_type": "code",
   "execution_count": 46,
   "id": "6cfbbde2",
   "metadata": {},
   "outputs": [
    {
     "name": "stdout",
     "output_type": "stream",
     "text": [
      "Accuracy of SVM using different kernels\n",
      "\n",
      "Kernel = linear: 0.9262580966616841\n",
      "Kernel = poly: 0.953662182361734\n",
      "Kernel = rbf: 0.9471848530144494\n",
      "Kernel = sigmoid: 0.8505231689088192\n"
     ]
    }
   ],
   "source": [
    "# Define SVM Classifier using different kernels\n",
    "\n",
    "svm_lin = SVC(kernel=\"linear\", probability=True)\n",
    "svm_lin.fit(X_train, y_train)\n",
    "\n",
    "svm_poly = SVC(kernel=\"poly\", probability=True)\n",
    "svm_poly.fit(X_train, y_train)\n",
    "\n",
    "svm_rbf = SVC(kernel=\"rbf\", probability=True)\n",
    "svm_rbf.fit(X_train, y_train)\n",
    "\n",
    "svm_sigmoid = SVC(kernel=\"sigmoid\", probability=True)\n",
    "svm_sigmoid.fit(X_train, y_train)\n",
    "\n",
    "print(\"Accuracy of SVM using different kernels\")\n",
    "print()\n",
    "\n",
    "print(\"Kernel = linear: \" + str(svm_lin.score(X_test, y_test)))\n",
    "print(\"Kernel = poly: \" + str(svm_poly.score(X_test, y_test)))\n",
    "print(\"Kernel = rbf: \" + str(svm_rbf.score(X_test, y_test)))\n",
    "print(\"Kernel = sigmoid: \" + str(svm_sigmoid.score(X_test, y_test)))"
   ]
  },
  {
   "cell_type": "markdown",
   "id": "5bc89483",
   "metadata": {},
   "source": [
    "### - - - - Step 18: Combine different classifiers to achieve higher accuracy by making use of the ensembling technique - - - - ###\n"
   ]
  },
  {
   "cell_type": "markdown",
   "id": "fef8f7ab",
   "metadata": {},
   "source": [
    "Check the misprediction for each classifier"
   ]
  },
  {
   "cell_type": "code",
   "execution_count": 47,
   "id": "71c8f5b7",
   "metadata": {},
   "outputs": [
    {
     "name": "stdout",
     "output_type": "stream",
     "text": [
      "The number of digits mispredicted and not correctly classified for the above classifiers: \n",
      "\n",
      "neigh3\n",
      "[ 4.  6. 15. 13. 17. 16.  7.  9. 15.  9.]\n",
      "\n",
      "neigh6\n",
      "[ 5.  6. 16. 11. 17. 18.  8.  9. 23. 10.]\n",
      "\n",
      "neigh9\n",
      "[ 5.  5. 18. 12. 21. 15.  9. 10. 22.  9.]\n",
      "\n",
      "svm_lin\n",
      "[ 8.  8. 17. 20. 20. 24. 10. 12. 22.  7.]\n",
      "\n",
      "svm_poly\n",
      "[ 4.  7. 13. 15. 11. 10.  8.  8. 10.  7.]\n",
      "\n",
      "svm_rbf\n",
      "[ 4. 10. 14. 19. 12.  9. 11.  9. 11.  7.]\n",
      "\n",
      "svm_sigmoid\n",
      "[35.  9. 53. 32. 26. 48. 23. 18. 40. 16.]\n",
      "\n",
      "gaussNB_np\n",
      "[62.  5. 53. 35. 50. 38. 27. 30. 39. 37.]\n",
      "\n",
      "Most 3 mispredicted digits: \n",
      "\n",
      "neigh3: 4 5 8\n",
      "neigh6: 8 5 4\n",
      "neigh9: 8 4 2\n",
      "svm_lin: 5 8 4\n",
      "svm_poly: 3 2 4\n",
      "svm_rbf: 3 2 4\n",
      "svm_sigmoid: 2 5 8\n",
      "gaussNB_np: 0 2 4\n",
      "\n",
      "Least 3 mispredicted digits: \n",
      "\n",
      "neigh3: 0 1 6\n",
      "neigh6: 0 1 6\n",
      "neigh9: 0 1 6\n",
      "svm_lin: 9 0 1\n",
      "svm_poly: 0 1 9\n",
      "svm_rbf: 0 9 5\n",
      "svm_sigmoid: 1 9 7\n",
      "gaussNB_np: 1 6 7\n"
     ]
    }
   ],
   "source": [
    "num_classifiers = 8\n",
    "classifiers = [neigh3, neigh6, neigh9, svm_lin, svm_poly, svm_rbf, svm_sigmoid, gaussNB_np]\n",
    "names = [\"neigh3\", \"neigh6\", \"neigh9\", \"svm_lin\", \"svm_poly\", \"svm_rbf\", \"svm_sigmoid\", \"gaussNB_np\"]\n",
    "mispred = np.zeros((num_classifiers, 10))\n",
    "\n",
    "for i, clf in enumerate(classifiers):\n",
    "    y_pred = clf.predict(X_test)\n",
    "    for j in range(len(y_pred)):\n",
    "        if y_pred[j]!= y_test[j]:\n",
    "            mispred[i, int(y_test[j])] +=1\n",
    "\n",
    "print(\"The number of digits mispredicted and not correctly classified for the above classifiers: \")\n",
    "print()\n",
    "\n",
    "for i in range(num_classifiers):\n",
    "    print(names[i])\n",
    "    print(mispred[i])\n",
    "    print()\n",
    "  \n",
    "print(\"Most 3 mispredicted digits: \")\n",
    "print()\n",
    "\n",
    "for i in range(num_classifiers):\n",
    "    worst_3 = mispred[i].argsort()[-3:][::-1]\n",
    "    print(names[i] + \": \" + str(worst_3[0]) + \" \" + str(worst_3[1]) + \" \" + str(worst_3[2]))\n",
    "    \n",
    "print()\n",
    "print(\"Least 3 mispredicted digits: \")\n",
    "print()\n",
    "\n",
    "for i in range(num_classifiers):\n",
    "    least_3 = mispred[i].argsort()[:3]\n",
    "    print(names[i] + \": \" + str(least_3[0]) + \" \" + str(least_3[1]) + \" \" + str(least_3[2]))"
   ]
  },
  {
   "cell_type": "markdown",
   "id": "99ae5d33",
   "metadata": {},
   "source": [
    "__Step 18(a)__ : Combine some Classifiers, taking consideration of the above results"
   ]
  },
  {
   "cell_type": "code",
   "execution_count": 48,
   "id": "c89f58eb",
   "metadata": {},
   "outputs": [
    {
     "name": "stdout",
     "output_type": "stream",
     "text": [
      "Hard : 0.9471848530144494\n"
     ]
    }
   ],
   "source": [
    "# svm_poly && neigh3\n",
    "clf1 = VotingClassifier(estimators = [('svm_poly', svm_poly), ('neigh3', neigh3)], voting = 'hard')\n",
    "clf1.fit(X_train, y_train)\n",
    "print(\"Hard : \" + str(clf1.score(X_test, y_test)))"
   ]
  },
  {
   "cell_type": "code",
   "execution_count": 49,
   "id": "aac8d4de",
   "metadata": {},
   "outputs": [
    {
     "name": "stdout",
     "output_type": "stream",
     "text": [
      "Hard : 0.942700548081714\n"
     ]
    }
   ],
   "source": [
    "# svm_poly && neigh6\n",
    "clf2 = VotingClassifier(estimators = [('svm_poly', svm_poly), ('neigh6', neigh6)], voting = 'hard')\n",
    "clf2.fit(X_train, y_train)\n",
    "print(\"Hard : \" + str(clf2.score(X_test, y_test)))"
   ]
  },
  {
   "cell_type": "code",
   "execution_count": 50,
   "id": "3b960b77",
   "metadata": {},
   "outputs": [
    {
     "name": "stdout",
     "output_type": "stream",
     "text": [
      "Hard : 0.9441953163926258\n"
     ]
    }
   ],
   "source": [
    "# svm_poly && neigh9\n",
    "clf3 = VotingClassifier(estimators = [('svm_poly', svm_poly), ('neigh9', neigh9)], voting = 'hard')\n",
    "clf3.fit(X_train, y_train)\n",
    "print(\"Hard : \" + str(clf3.score(X_test, y_test)))"
   ]
  },
  {
   "cell_type": "code",
   "execution_count": 51,
   "id": "7bbe952f",
   "metadata": {},
   "outputs": [
    {
     "name": "stdout",
     "output_type": "stream",
     "text": [
      "Hard : 0.9476831091180867\n"
     ]
    }
   ],
   "source": [
    "# svm_poly && neigh3 && sigmoid\n",
    "clf4 = VotingClassifier(estimators = [('svm_poly', svm_poly), ('neigh3', neigh3), ('svm_sigmoid', svm_sigmoid)] ,voting = 'hard')\n",
    "clf4.fit(X_train, y_train)\n",
    "print(\"Hard : \" + str(clf4.score(X_test, y_test)))"
   ]
  },
  {
   "cell_type": "code",
   "execution_count": 52,
   "id": "10fd3288",
   "metadata": {},
   "outputs": [
    {
     "name": "stdout",
     "output_type": "stream",
     "text": [
      "Hard : 0.9446935724962631\n"
     ]
    }
   ],
   "source": [
    "# svm_poly && neigh3 && gaussNB\n",
    "clf5 = VotingClassifier(estimators = [('svm_poly', svm_poly), ('neigh3', neigh3), ('gaussNB_np', gaussNB_np)] ,voting = 'hard')\n",
    "clf5.fit(X_train, y_train)\n",
    "print(\"Hard : \" + str(clf5.score(X_test, y_test)))"
   ]
  },
  {
   "cell_type": "code",
   "execution_count": 53,
   "id": "0a486234",
   "metadata": {},
   "outputs": [
    {
     "name": "stdout",
     "output_type": "stream",
     "text": [
      "Hard : 0.9506726457399103\n"
     ]
    }
   ],
   "source": [
    "# svm_poly && neigh3 && svm_lin\n",
    "clf6 = VotingClassifier(estimators = [('svm_poly', svm_poly), ('neigh3', neigh3), ('svm_lin', svm_lin)] ,voting = 'hard')\n",
    "clf6.fit(X_train, y_train)\n",
    "print(\"Hard : \" + str(clf6.score(X_test, y_test)))"
   ]
  },
  {
   "cell_type": "code",
   "execution_count": 54,
   "id": "9978463a",
   "metadata": {},
   "outputs": [
    {
     "name": "stdout",
     "output_type": "stream",
     "text": [
      "Hard : 0.9481813652217239\n"
     ]
    }
   ],
   "source": [
    "# svm_poly && neigh3 && svm_lin\n",
    "clf6 = VotingClassifier(estimators = [('svm_poly', svm_poly), ('neigh6', neigh6), ('svm_lin', svm_lin)] ,voting = 'hard')\n",
    "clf6.fit(X_train, y_train)\n",
    "print(\"Hard : \" + str(clf6.score(X_test, y_test)))"
   ]
  },
  {
   "cell_type": "code",
   "execution_count": 55,
   "id": "3673ff09",
   "metadata": {},
   "outputs": [
    {
     "name": "stdout",
     "output_type": "stream",
     "text": [
      "Soft : 0.9516691579471849\n"
     ]
    }
   ],
   "source": [
    "# svm_poly && neigh3 && svm_lin\n",
    "clf7 = VotingClassifier(estimators = [('svm_poly', svm_poly), ('neigh3', neigh3), ('svm_lin', svm_lin)] ,voting = 'soft')\n",
    "clf7.fit(X_train, y_train)\n",
    "print(\"Soft : \" + str(clf7.score(X_test, y_test)))"
   ]
  },
  {
   "cell_type": "markdown",
   "id": "72803298",
   "metadata": {},
   "source": [
    "__Step 18(b)__ : Choose a classifier from above and use the Bagging Classifier to create an ensemble"
   ]
  },
  {
   "cell_type": "code",
   "execution_count": 56,
   "id": "c5dbbf15",
   "metadata": {},
   "outputs": [
    {
     "name": "stdout",
     "output_type": "stream",
     "text": [
      "Bagging svm_poly using 3 estimators: 0.9506726457399103\n",
      "Bagging svm_poly using 6 estimators: 0.9511709018435476\n",
      "Bagging svm_poly using 9 estimators: 0.9516691579471849\n"
     ]
    }
   ],
   "source": [
    "bagging_3 = BaggingClassifier(svm_poly, n_estimators=3)\n",
    "bagging_6 = BaggingClassifier(svm_poly, n_estimators=6)\n",
    "bagging_9 = BaggingClassifier(svm_poly, n_estimators=9)\n",
    "\n",
    "\n",
    "bagging_3.fit(X_train, y_train)\n",
    "bagging_6.fit(X_train, y_train)\n",
    "bagging_9.fit(X_train, y_train)\n",
    "\n",
    "print(\"Bagging svm_poly using 3 estimators: \" + str(bagging_3.score(X_test, y_test)))\n",
    "print(\"Bagging svm_poly using 6 estimators: \" + str(bagging_6.score(X_test, y_test)))\n",
    "print(\"Bagging svm_poly using 9 estimators: \" + str(bagging_9.score(X_test, y_test)))"
   ]
  },
  {
   "cell_type": "markdown",
   "id": "04eebe09",
   "metadata": {},
   "source": [
    "__Step 18(c)__ : Generally the Bagging technique reduces overfitting by averaging the results and voting. It has increased the accuracy of our model"
   ]
  },
  {
   "cell_type": "markdown",
   "id": "968d4d72",
   "metadata": {},
   "source": [
    "### - - - - Step 19 - - - - ###"
   ]
  },
  {
   "cell_type": "markdown",
   "id": "75ae5807",
   "metadata": {},
   "source": [
    "__Step 19(a)__: Create the dataset"
   ]
  },
  {
   "cell_type": "code",
   "execution_count": 57,
   "id": "f5c38fb2",
   "metadata": {},
   "outputs": [],
   "source": [
    "class DigitData(Dataset):\n",
    "    \"\"\"\n",
    "    Our custom PyTorch Dataset, for manipulating US Postal Dataset.\n",
    "    What we have to do is to implement the 2 abstract methods:\n",
    "        - __len__(self): in order to let the DataLoader know the size\n",
    "            of our dataset and to perform batching, shuffling and so on...\n",
    "        - __getitem__(self, index): we have to return the properly\n",
    "            processed data-item from our dataset with a given index\n",
    "    \"\"\"\n",
    "\n",
    "    def __init__(self, X, y):\n",
    "        \"\"\"\n",
    "        Args:\n",
    "            X (list): List of training samples\n",
    "            y (list): List of training labels\n",
    "        \"\"\"\n",
    "        self.data = X\n",
    "        self.labels = y\n",
    "\n",
    "    def __len__(self):\n",
    "        \"\"\"\n",
    "        Must return the length of the dataset, so the dataloader can know\n",
    "        how to split it into batches\n",
    "        Returns:\n",
    "            (int): the length of the dataset\n",
    "        \"\"\"\n",
    "        \n",
    "        return len(self.data)\n",
    "\n",
    "    def __getitem__(self, idx):\n",
    "        \"\"\"\n",
    "        Returns the idx-th item from the dataset\n",
    "        Args:\n",
    "            index (int):\n",
    "        Returns:\n",
    "            (tuple):\n",
    "                * example (ndarray): the training example\n",
    "                * label (int): the class label\n",
    "        \"\"\"\n",
    "        \n",
    "        return self.data[idx], self.labels[idx]"
   ]
  },
  {
   "cell_type": "code",
   "execution_count": 58,
   "id": "6e91f84d",
   "metadata": {
    "scrolled": true
   },
   "outputs": [
    {
     "name": "stdout",
     "output_type": "stream",
     "text": [
      "Training set size : 5103\n",
      "Validation set size : 2188\n",
      "Test set size : 2007\n"
     ]
    }
   ],
   "source": [
    "# Ηere we use th sklearn built-in split function to split the data \n",
    "X_train, X_val, y_train, y_val  = train_test_split(X_train, y_train, test_size=0.3, random_state=1)\n",
    "\n",
    "train_set = DigitData(X_train, y_train)\n",
    "val_set = DigitData(X_val, y_val)\n",
    "test_set = DigitData(X_test, y_test)\n",
    "\n",
    "print(\"Training set size : \" + str(len(train_set)))\n",
    "print(\"Validation set size : \" + str(len(val_set)))\n",
    "print(\"Test set size : \" + str(len(test_set)))"
   ]
  },
  {
   "cell_type": "markdown",
   "id": "3a23c438",
   "metadata": {},
   "source": [
    "Dataloader is a pytorch class that splits the data into baches"
   ]
  },
  {
   "cell_type": "code",
   "execution_count": 59,
   "id": "03772943",
   "metadata": {},
   "outputs": [],
   "source": [
    "train_loader = DataLoader(train_set, batch_size=32,\n",
    "                          shuffle=True, num_workers=0)\n",
    "\n",
    "val_loader = DataLoader(val_set, batch_size=32,\n",
    "                          shuffle=True, num_workers=0)\n",
    "\n",
    "test_loader = DataLoader(test_set, batch_size=32,\n",
    "                          shuffle=True, num_workers=0)"
   ]
  },
  {
   "cell_type": "markdown",
   "id": "e1c5c9ba",
   "metadata": {},
   "source": [
    "__Step 19(b)__: Define a fully connected neural network"
   ]
  },
  {
   "cell_type": "markdown",
   "id": "85088a84",
   "metadata": {},
   "source": [
    "Define a two layer neural network using ReLU activation function"
   ]
  },
  {
   "cell_type": "code",
   "execution_count": 60,
   "id": "022f0d30",
   "metadata": {},
   "outputs": [],
   "source": [
    "class TwoLayerNet(torch.nn.Module):\n",
    "    def __init__(self, D_in, H, D_out):\n",
    "        super(TwoLayerNet, self).__init__()\n",
    "        self.linear1 = torch.nn.Linear(D_in, H)\n",
    "        self.relu = torch.nn.ReLU()\n",
    "        self.linear2 = torch.nn.Linear(H, D_out)\n",
    "\n",
    "    def forward(self, data):\n",
    "        hidden =  self.relu(self.linear1(data.float()))\n",
    "        preds = self.linear2(hidden)\n",
    "        return preds"
   ]
  },
  {
   "cell_type": "markdown",
   "id": "9b3d4bb2",
   "metadata": {},
   "source": [
    "Define a three layer neural network using ReLu activation function"
   ]
  },
  {
   "cell_type": "code",
   "execution_count": 61,
   "id": "047e7902",
   "metadata": {},
   "outputs": [],
   "source": [
    "class ThreeLayerNet(torch.nn.Module):\n",
    "    def __init__(self, D_in, H_1, H_2, D_out):\n",
    "        super(ThreeLayerNet, self).__init__()\n",
    "        self.linear1 = torch.nn.Linear(D_in, H_1)\n",
    "        self.relu = torch.nn.ReLU()\n",
    "        self.linear2 = torch.nn.Linear(H_1, H_2)\n",
    "        self.linear3 = torch.nn.Linear(H_2, D_out)\n",
    "\n",
    "    def forward(self, data):\n",
    "        hidden_1 =  self.relu(self.linear1(data.float()))\n",
    "        hidden_2 =  self.relu(self.linear2(hidden_1))\n",
    "        preds = self.linear3(hidden_2)\n",
    "        return preds"
   ]
  },
  {
   "cell_type": "markdown",
   "id": "bf8afe6d",
   "metadata": {},
   "source": [
    "Define a two layer neural network using tanh activation function"
   ]
  },
  {
   "cell_type": "code",
   "execution_count": 62,
   "id": "95b49125",
   "metadata": {},
   "outputs": [],
   "source": [
    "class TwoLayerNet_tanh(torch.nn.Module):\n",
    "    def __init__(self, D_in, H, D_out):\n",
    "        super(TwoLayerNet_tanh, self).__init__()\n",
    "        self.linear1 = torch.nn.Linear(D_in, H)\n",
    "        self.tanh = torch.nn.Tanh()\n",
    "        self.linear2 = torch.nn.Linear(H, D_out)\n",
    "\n",
    "    def forward(self, data):\n",
    "        hidden =  self.tanh(self.linear1(data.float()))\n",
    "        preds = self.linear2(hidden)\n",
    "        return preds"
   ]
  },
  {
   "cell_type": "markdown",
   "id": "f1b5f928",
   "metadata": {},
   "source": [
    "Define a three layer neural network using tanh activation function"
   ]
  },
  {
   "cell_type": "code",
   "execution_count": 63,
   "id": "2e12db2e",
   "metadata": {},
   "outputs": [],
   "source": [
    "class ThreeLayerNet_tanh(torch.nn.Module):\n",
    "    def __init__(self, D_in, H_1, H_2, D_out):\n",
    "        super(ThreeLayerNet_tanh, self).__init__()\n",
    "        self.linear1 = torch.nn.Linear(D_in, H_1)\n",
    "        self.tanh = torch.nn.Tanh()\n",
    "        self.linear2 = torch.nn.Linear(H_1, H_2)\n",
    "        self.linear3 = torch.nn.Linear(H_2, D_out)\n",
    "\n",
    "    def forward(self, data):\n",
    "        hidden_1 =  self.tanh(self.linear1(data.float()))\n",
    "        hidden_2 =  self.tanh(self.linear2(hidden_1))\n",
    "        preds = self.linear3(hidden_2)\n",
    "        return preds"
   ]
  },
  {
   "cell_type": "markdown",
   "id": "0f2d6dcb",
   "metadata": {},
   "source": [
    "Define a two layer neural network using sigmoid activation function"
   ]
  },
  {
   "cell_type": "code",
   "execution_count": 64,
   "id": "e17cce25",
   "metadata": {},
   "outputs": [],
   "source": [
    "class TwoLayerNet_sigmoid(torch.nn.Module):\n",
    "    def __init__(self, D_in, H, D_out):\n",
    "        super(TwoLayerNet_sigmoid, self).__init__()\n",
    "        self.linear1 = torch.nn.Linear(D_in, H)\n",
    "        self.sigmoid = torch.nn.Sigmoid()\n",
    "        self.linear2 = torch.nn.Linear(H, D_out)\n",
    "\n",
    "    def forward(self, data):\n",
    "        hidden =  self.sigmoid(self.linear1(data.float()))\n",
    "        preds = self.linear2(hidden)\n",
    "        return preds"
   ]
  },
  {
   "cell_type": "markdown",
   "id": "7fd97b15",
   "metadata": {},
   "source": [
    "Define a three layer neural network using sigmoid activation function"
   ]
  },
  {
   "cell_type": "code",
   "execution_count": 65,
   "id": "2c227556",
   "metadata": {},
   "outputs": [],
   "source": [
    "class ThreeLayerNet_sigmoid(torch.nn.Module):\n",
    "    def __init__(self, D_in, H_1, H_2, D_out):\n",
    "        super(ThreeLayerNet_sigmoid, self).__init__()\n",
    "        self.linear1 = torch.nn.Linear(D_in, H_1)\n",
    "        self.sigmoid = torch.nn.Sigmoid()\n",
    "        self.linear2 = torch.nn.Linear(H_1, H_2)\n",
    "        self.linear3 = torch.nn.Linear(H_2, D_out)\n",
    "\n",
    "    def forward(self, data):\n",
    "        hidden_1 =  self.sigmoid(self.linear1(data.float()))\n",
    "        hidden_2 =  self.sigmoid(self.linear2(hidden_1))\n",
    "        preds = self.linear3(hidden_2)\n",
    "        return preds"
   ]
  },
  {
   "cell_type": "markdown",
   "id": "09ea632b",
   "metadata": {},
   "source": [
    "Train the Neural Network"
   ]
  },
  {
   "cell_type": "code",
   "execution_count": 66,
   "id": "4d84a2a3",
   "metadata": {},
   "outputs": [
    {
     "name": "stdout",
     "output_type": "stream",
     "text": [
      "Number of hidden layers: (1 or 2)1\n",
      "Size of hidden layer: 16\n",
      "Activation function: (relu or tanh or sigmoid)relu\n",
      "TwoLayerNet(\n",
      "  (linear1): Linear(in_features=256, out_features=16, bias=True)\n",
      "  (relu): ReLU()\n",
      "  (linear2): Linear(in_features=16, out_features=10, bias=True)\n",
      ")\n",
      "\n",
      "Epoch: 1\n",
      "Accuracy in train: 69.939251 %\n",
      "Accuracy in val: 84.853014 %\n",
      "Epoch: 2\n",
      "Accuracy in train: 90.436998 %\n",
      "Accuracy in val: 86.895864 %\n",
      "Epoch: 3\n",
      "Accuracy in train: 92.886537 %\n",
      "Accuracy in val: 88.639761 %\n",
      "Epoch: 4\n",
      "Accuracy in train: 93.944738 %\n",
      "Accuracy in val: 88.938714 %\n",
      "Epoch: 5\n",
      "Accuracy in train: 94.454243 %\n",
      "Accuracy in val: 90.433483 %\n",
      "Epoch: 6\n",
      "Accuracy in train: 94.924554 %\n",
      "Accuracy in val: 90.582960 %\n",
      "Epoch: 7\n",
      "Accuracy in train: 95.571233 %\n",
      "Accuracy in val: 90.433483 %\n",
      "Finished Training\n"
     ]
    }
   ],
   "source": [
    "# D_in is input dimension;\n",
    "# D_out is output dimension.\n",
    "D_in, D_out = 256, 10\n",
    "\n",
    "\n",
    "# Construct our model \n",
    "layers = int(input(\"Number of hidden layers: (1 or 2)\"))\n",
    "if layers == 1:\n",
    "    size1 = int(input(\"Size of hidden layer: \"))\n",
    "    size2 = None\n",
    "else:\n",
    "    size1 = int(input(\"Size of 1st hidden layer: \"))\n",
    "    size2 = int(input(\"Size of 2nd hidden layer: \"))\n",
    "\n",
    "act = input(\"Activation function: (relu or tanh or sigmoid)\")\n",
    "\n",
    "if layers == 1:\n",
    "    if act == \"relu\":\n",
    "        model = TwoLayerNet(D_in, size1, D_out)\n",
    "    elif act == \"tanh\":\n",
    "        model = TwoLayerNet_tanh(D_in, size1, D_out)\n",
    "    else:\n",
    "        model = TwoLayerNet_sigmoid(D_in, size1, D_out)\n",
    "else:\n",
    "    if act == \"relu\":\n",
    "        model = ThreeLayerNet(D_in, size1, size1, D_out)\n",
    "    elif act ==\"tanh\":\n",
    "        model = ThreeLayerNet_tanh(D_in, size1, size1, D_out)\n",
    "    else:\n",
    "        model = ThreeLayerNet_sigmoid(D_in, size1, size2, D_out)\n",
    "\n",
    "print(model)\n",
    "print()\n",
    "\n",
    "# Define criterion and optimizer\n",
    "criterion = torch.nn.CrossEntropyLoss()\n",
    "optimizer = torch.optim.Adam(model.parameters())\n",
    "\n",
    "prev_val = 0\n",
    "ep = 1\n",
    "\n",
    "while True:\n",
    "    print(\"Epoch: \" + str(ep))\n",
    "    \n",
    "    # Train and evaluate on train set\n",
    "    correct_train = 0\n",
    "    total_train = 0\n",
    "    for i, data in enumerate(train_loader, 0):\n",
    "        # get the inputs; data is a list of [inputs, labels]\n",
    "        inputs, labels = data\n",
    "\n",
    "        # zero the parameter gradients\n",
    "        optimizer.zero_grad()\n",
    "\n",
    "        # forward + backward + optimize\n",
    "        outputs = model(inputs)\n",
    "        \n",
    "        _, predicted = torch.max(outputs.data, 1)\n",
    "        total_train += labels.size(0)\n",
    "        correct_train += (predicted == labels).sum().item()\n",
    "        \n",
    "        loss = criterion(outputs, labels)\n",
    "        loss.backward()\n",
    "        optimizer.step()\n",
    "\n",
    "    \n",
    "    print('Accuracy in train: %f %%' % (\n",
    "            100 * correct_train / total_train))\n",
    "    \n",
    "    # Evaluate on validation set\n",
    "    correct_val = 0\n",
    "    total_val = 0\n",
    "    with torch.no_grad():\n",
    "        for data in test_loader:\n",
    "            images, labels = data\n",
    "            outputs = model(images)\n",
    "            _, predicted = torch.max(outputs.data, 1)\n",
    "            total_val += labels.size(0)\n",
    "            correct_val += (predicted == labels).sum().item()\n",
    "            \n",
    "    print('Accuracy in val: %f %%' % (\n",
    "            100 * correct_val / total_val))\n",
    "    \n",
    "    # Stop when validation accuracy stops increasing.\n",
    "    curr_val = correct_val / total_val\n",
    "    if curr_val + 0.001 < prev_val:\n",
    "        break\n",
    "    prev_val = curr_val\n",
    "    ep += 1\n",
    "\n",
    "print('Finished Training')"
   ]
  },
  {
   "cell_type": "markdown",
   "id": "447ae0b8",
   "metadata": {},
   "source": [
    "| Hidden Layers | Activation Type | Size of each layer | Epochs | Accuracy (train) | Accuracy (val) |\n",
    "| --- | --- | --- | --- | --- | --- |\n",
    "| 1 | ReLU | 16 | 10 | 95.36 | 89.58 |\n",
    "| 1 | ReLU | 32 | 16 |  97.41| 91.33  |\n",
    "| 1 | ReLU | 64 | 7 | 97.27 | 91.67 |\n",
    "| 1 | ReLU | 128 | 4 | 96.47 | 91.18  |\n",
    "| --- | --- | --- | --- | --- | --- |\n",
    "| 2 | ReLU | 32 - 16 | 5 | 95.51 | 90.23 |\n",
    "| 2 | ReLU | 64 - 32 | 7 | 97.78 | 91.52 |\n",
    "| 2 | ReLU | 128 - 64 | 4 | 96.96 | 91.87 |\n",
    "| --- | --- | --- | --- | --- | --- |\n",
    "| 1 | tanh | 16 | 6 | 95.29 | 90.23 |\n",
    "| 1 | tanh | 32 | 9 | 97.45 | 91.62 |\n",
    "| 1 | tanh | 64 | 5 | 96.62 | 91.42 |\n",
    "| 1 | tanh | 128 | 8 | 98.66 | 92.07 |\n",
    "| --- | --- | --- | --- | --- | --- |\n",
    "| 2 | tanh | 32 - 16 | 5 | 96.33 | 90.43  |\n",
    "| 2 | tanh | 64 - 32 | 5 | 97.53 | 91.72 |\n",
    "| 2 | tanh | 128 - 64 | 6 | 98.74 | 92.17 |\n",
    "| --- | --- | --- | --- | --- | --- |\n",
    "| 1 | sigmoid  | 16 | 10 | 94.37 | 88.68 |\n",
    "| 1 | sigmoid  | 32 | 10 | 96.10 | 91.28 |\n",
    "| 1 | sigmoid  | 64 | 16 | 98.17 | 91.97 |\n",
    "| 1 | sigmoid  | 128 | 8 | 96.78 | 91.77 |\n",
    "| --- | --- | --- | --- | --- | --- |\n",
    "| 2 | sigmoid  | 32 - 16 | 19 | 97.74 | 91.42 |\n",
    "| 2 | sigmoid  | 64 - 32 | 16 | 98.15 | 92.17 |\n",
    "| 2 | sigmoid  | 128 - 64 | 16 | __98.80__ | __92.52__ |"
   ]
  },
  {
   "cell_type": "code",
   "execution_count": 67,
   "id": "ee3f3d75",
   "metadata": {},
   "outputs": [
    {
     "name": "stdout",
     "output_type": "stream",
     "text": [
      "0.9043348281016442\n"
     ]
    }
   ],
   "source": [
    "# Evaluate the best model on test set\n",
    "# sigmoid with 2 hidden layers (128 - 64)\n",
    "correct = 0\n",
    "total = 0\n",
    "with torch.no_grad():\n",
    "    for data in test_loader:\n",
    "        images, labels = data\n",
    "        outputs = model(images)\n",
    "        _, predicted = torch.max(outputs.data, 1)\n",
    "        total_val += labels.size(0)\n",
    "        correct_val += (predicted == labels).sum().item()\n",
    "\n",
    "print(correct_val / total_val)"
   ]
  },
  {
   "cell_type": "markdown",
   "id": "7b3611a3",
   "metadata": {},
   "source": [
    "__Step 19(c)__: Convert the PyTorch Neural Network implementation to sklearn compatible."
   ]
  },
  {
   "cell_type": "code",
   "execution_count": 68,
   "id": "2742243b",
   "metadata": {},
   "outputs": [],
   "source": [
    "class NN_sklearn(BaseEstimator, ClassifierMixin):  \n",
    "\n",
    "    def __init__(self, in_dim, out_dim, hidden_dim, batch_size):\n",
    "        self.D_in = in_dim\n",
    "        self.D_out = out_dim\n",
    "        self.H = hidden_dim\n",
    "        self.batch_size = batch_size\n",
    "        self.model = TwoLayerNet(self.D_in, self.H, self.D_out)\n",
    "\n",
    "\n",
    "    def fit(self, X, y):\n",
    "        train_set = DigitData(X, y)\n",
    "        train_loader = DataLoader(train_set, batch_size=self.batch_size,\n",
    "                          shuffle=True, num_workers=0)\n",
    "        criterion = torch.nn.CrossEntropyLoss()\n",
    "        optimizer = torch.optim.Adam(self.model.parameters())\n",
    "\n",
    "        prev_val = 0\n",
    "        ep = 1\n",
    "\n",
    "        while True:\n",
    "            print(\"Epoch: \" + str(ep))\n",
    "            correct_train = 0\n",
    "            total_train = 0\n",
    "            for i, data in enumerate(train_loader, 0):\n",
    "                # get the inputs; data is a list of [inputs, labels]\n",
    "                inputs, labels = data\n",
    "\n",
    "                # zero the parameter gradients\n",
    "                optimizer.zero_grad()\n",
    "\n",
    "                # forward + backward + optimize\n",
    "                outputs = self.model(inputs)\n",
    "\n",
    "                _, predicted = torch.max(outputs.data, 1)\n",
    "                total_train += labels.size(0)\n",
    "                correct_train += (predicted == labels).sum().item()\n",
    "\n",
    "                loss = criterion(outputs, labels)\n",
    "                loss.backward()\n",
    "                optimizer.step()\n",
    "\n",
    "\n",
    "            print('Accuracy in train: %f %%' % (\n",
    "                    100 * correct_train / total_train))\n",
    "\n",
    "            correct_val = 0\n",
    "            total_val = 0\n",
    "            with torch.no_grad():\n",
    "                for data in test_loader:\n",
    "                    images, labels = data\n",
    "                    outputs = self.model(images)\n",
    "                    _, predicted = torch.max(outputs.data, 1)\n",
    "                    total_val += labels.size(0)\n",
    "                    correct_val += (predicted == labels).sum().item()\n",
    "\n",
    "            print('Accuracy in val: %f %%' % (\n",
    "                    100 * correct_val / total_val))\n",
    "\n",
    "            curr_val = correct_val / total_val\n",
    "            if curr_val + 0.001 < prev_val:\n",
    "                break\n",
    "            prev_val = curr_val\n",
    "            ep += 1\n",
    "        \n",
    "        return self\n",
    "\n",
    "\n",
    "    \n",
    "    def score(self, X, y):\n",
    "        \"\"\"\n",
    "        Return accuracy score on the predictions\n",
    "        for X based on ground truth y\n",
    "        \"\"\"\n",
    "        test_set = DigitData(X, y)\n",
    "        test_loader = DataLoader(test_set, batch_size=1, shuffle=True, num_workers=0)       \n",
    "        correct = 0\n",
    "        total = 0\n",
    "        predictions = []\n",
    "        with torch.no_grad():\n",
    "            for data in test_loader:\n",
    "                images, labels = data\n",
    "                outputs = self.model(images)\n",
    "                _, predicted = torch.max(outputs.data, 1)\n",
    "                total += labels.size(0)\n",
    "                correct += (predicted == labels).sum().item()\n",
    "                \n",
    "        return correct/total"
   ]
  },
  {
   "cell_type": "code",
   "execution_count": 69,
   "id": "d8e4a249",
   "metadata": {},
   "outputs": [
    {
     "name": "stdout",
     "output_type": "stream",
     "text": [
      "Epoch: 1\n",
      "Accuracy in train: 80.148932 %\n",
      "Accuracy in val: 88.490284 %\n",
      "Epoch: 2\n",
      "Accuracy in train: 93.611601 %\n",
      "Accuracy in val: 90.284006 %\n",
      "Epoch: 3\n",
      "Accuracy in train: 94.748187 %\n",
      "Accuracy in val: 91.180867 %\n",
      "Epoch: 4\n",
      "Accuracy in train: 95.688811 %\n",
      "Accuracy in val: 91.679123 %\n",
      "Epoch: 5\n",
      "Accuracy in train: 96.511856 %\n",
      "Accuracy in val: 91.479821 %\n"
     ]
    },
    {
     "ename": "AttributeError",
     "evalue": "'NN_sklearn' object has no attribute 'hidden_dim'",
     "output_type": "error",
     "traceback": [
      "\u001b[1;31m---------------------------------------------------------------------------\u001b[0m",
      "\u001b[1;31mAttributeError\u001b[0m                            Traceback (most recent call last)",
      "\u001b[1;32m~\\miniconda3\\lib\\site-packages\\IPython\\core\\formatters.py\u001b[0m in \u001b[0;36m__call__\u001b[1;34m(self, obj, include, exclude)\u001b[0m\n\u001b[0;32m    968\u001b[0m \u001b[1;33m\u001b[0m\u001b[0m\n\u001b[0;32m    969\u001b[0m             \u001b[1;32mif\u001b[0m \u001b[0mmethod\u001b[0m \u001b[1;32mis\u001b[0m \u001b[1;32mnot\u001b[0m \u001b[1;32mNone\u001b[0m\u001b[1;33m:\u001b[0m\u001b[1;33m\u001b[0m\u001b[1;33m\u001b[0m\u001b[0m\n\u001b[1;32m--> 970\u001b[1;33m                 \u001b[1;32mreturn\u001b[0m \u001b[0mmethod\u001b[0m\u001b[1;33m(\u001b[0m\u001b[0minclude\u001b[0m\u001b[1;33m=\u001b[0m\u001b[0minclude\u001b[0m\u001b[1;33m,\u001b[0m \u001b[0mexclude\u001b[0m\u001b[1;33m=\u001b[0m\u001b[0mexclude\u001b[0m\u001b[1;33m)\u001b[0m\u001b[1;33m\u001b[0m\u001b[1;33m\u001b[0m\u001b[0m\n\u001b[0m\u001b[0;32m    971\u001b[0m             \u001b[1;32mreturn\u001b[0m \u001b[1;32mNone\u001b[0m\u001b[1;33m\u001b[0m\u001b[1;33m\u001b[0m\u001b[0m\n\u001b[0;32m    972\u001b[0m         \u001b[1;32melse\u001b[0m\u001b[1;33m:\u001b[0m\u001b[1;33m\u001b[0m\u001b[1;33m\u001b[0m\u001b[0m\n",
      "\u001b[1;32m~\\miniconda3\\lib\\site-packages\\sklearn\\base.py\u001b[0m in \u001b[0;36m_repr_mimebundle_\u001b[1;34m(self, **kwargs)\u001b[0m\n\u001b[0;32m    603\u001b[0m     \u001b[1;32mdef\u001b[0m \u001b[0m_repr_mimebundle_\u001b[0m\u001b[1;33m(\u001b[0m\u001b[0mself\u001b[0m\u001b[1;33m,\u001b[0m \u001b[1;33m**\u001b[0m\u001b[0mkwargs\u001b[0m\u001b[1;33m)\u001b[0m\u001b[1;33m:\u001b[0m\u001b[1;33m\u001b[0m\u001b[1;33m\u001b[0m\u001b[0m\n\u001b[0;32m    604\u001b[0m         \u001b[1;34m\"\"\"Mime bundle used by jupyter kernels to display estimator\"\"\"\u001b[0m\u001b[1;33m\u001b[0m\u001b[1;33m\u001b[0m\u001b[0m\n\u001b[1;32m--> 605\u001b[1;33m         \u001b[0moutput\u001b[0m \u001b[1;33m=\u001b[0m \u001b[1;33m{\u001b[0m\u001b[1;34m\"text/plain\"\u001b[0m\u001b[1;33m:\u001b[0m \u001b[0mrepr\u001b[0m\u001b[1;33m(\u001b[0m\u001b[0mself\u001b[0m\u001b[1;33m)\u001b[0m\u001b[1;33m}\u001b[0m\u001b[1;33m\u001b[0m\u001b[1;33m\u001b[0m\u001b[0m\n\u001b[0m\u001b[0;32m    606\u001b[0m         \u001b[1;32mif\u001b[0m \u001b[0mget_config\u001b[0m\u001b[1;33m(\u001b[0m\u001b[1;33m)\u001b[0m\u001b[1;33m[\u001b[0m\u001b[1;34m\"display\"\u001b[0m\u001b[1;33m]\u001b[0m \u001b[1;33m==\u001b[0m \u001b[1;34m\"diagram\"\u001b[0m\u001b[1;33m:\u001b[0m\u001b[1;33m\u001b[0m\u001b[1;33m\u001b[0m\u001b[0m\n\u001b[0;32m    607\u001b[0m             \u001b[0moutput\u001b[0m\u001b[1;33m[\u001b[0m\u001b[1;34m\"text/html\"\u001b[0m\u001b[1;33m]\u001b[0m \u001b[1;33m=\u001b[0m \u001b[0mestimator_html_repr\u001b[0m\u001b[1;33m(\u001b[0m\u001b[0mself\u001b[0m\u001b[1;33m)\u001b[0m\u001b[1;33m\u001b[0m\u001b[1;33m\u001b[0m\u001b[0m\n",
      "\u001b[1;32m~\\miniconda3\\lib\\site-packages\\sklearn\\base.py\u001b[0m in \u001b[0;36m__repr__\u001b[1;34m(self, N_CHAR_MAX)\u001b[0m\n\u001b[0;32m    272\u001b[0m         )\n\u001b[0;32m    273\u001b[0m \u001b[1;33m\u001b[0m\u001b[0m\n\u001b[1;32m--> 274\u001b[1;33m         \u001b[0mrepr_\u001b[0m \u001b[1;33m=\u001b[0m \u001b[0mpp\u001b[0m\u001b[1;33m.\u001b[0m\u001b[0mpformat\u001b[0m\u001b[1;33m(\u001b[0m\u001b[0mself\u001b[0m\u001b[1;33m)\u001b[0m\u001b[1;33m\u001b[0m\u001b[1;33m\u001b[0m\u001b[0m\n\u001b[0m\u001b[0;32m    275\u001b[0m \u001b[1;33m\u001b[0m\u001b[0m\n\u001b[0;32m    276\u001b[0m         \u001b[1;31m# Use bruteforce ellipsis when there are a lot of non-blank characters\u001b[0m\u001b[1;33m\u001b[0m\u001b[1;33m\u001b[0m\u001b[1;33m\u001b[0m\u001b[0m\n",
      "\u001b[1;32m~\\miniconda3\\lib\\pprint.py\u001b[0m in \u001b[0;36mpformat\u001b[1;34m(self, object)\u001b[0m\n\u001b[0;32m    151\u001b[0m     \u001b[1;32mdef\u001b[0m \u001b[0mpformat\u001b[0m\u001b[1;33m(\u001b[0m\u001b[0mself\u001b[0m\u001b[1;33m,\u001b[0m \u001b[0mobject\u001b[0m\u001b[1;33m)\u001b[0m\u001b[1;33m:\u001b[0m\u001b[1;33m\u001b[0m\u001b[1;33m\u001b[0m\u001b[0m\n\u001b[0;32m    152\u001b[0m         \u001b[0msio\u001b[0m \u001b[1;33m=\u001b[0m \u001b[0m_StringIO\u001b[0m\u001b[1;33m(\u001b[0m\u001b[1;33m)\u001b[0m\u001b[1;33m\u001b[0m\u001b[1;33m\u001b[0m\u001b[0m\n\u001b[1;32m--> 153\u001b[1;33m         \u001b[0mself\u001b[0m\u001b[1;33m.\u001b[0m\u001b[0m_format\u001b[0m\u001b[1;33m(\u001b[0m\u001b[0mobject\u001b[0m\u001b[1;33m,\u001b[0m \u001b[0msio\u001b[0m\u001b[1;33m,\u001b[0m \u001b[1;36m0\u001b[0m\u001b[1;33m,\u001b[0m \u001b[1;36m0\u001b[0m\u001b[1;33m,\u001b[0m \u001b[1;33m{\u001b[0m\u001b[1;33m}\u001b[0m\u001b[1;33m,\u001b[0m \u001b[1;36m0\u001b[0m\u001b[1;33m)\u001b[0m\u001b[1;33m\u001b[0m\u001b[1;33m\u001b[0m\u001b[0m\n\u001b[0m\u001b[0;32m    154\u001b[0m         \u001b[1;32mreturn\u001b[0m \u001b[0msio\u001b[0m\u001b[1;33m.\u001b[0m\u001b[0mgetvalue\u001b[0m\u001b[1;33m(\u001b[0m\u001b[1;33m)\u001b[0m\u001b[1;33m\u001b[0m\u001b[1;33m\u001b[0m\u001b[0m\n\u001b[0;32m    155\u001b[0m \u001b[1;33m\u001b[0m\u001b[0m\n",
      "\u001b[1;32m~\\miniconda3\\lib\\pprint.py\u001b[0m in \u001b[0;36m_format\u001b[1;34m(self, object, stream, indent, allowance, context, level)\u001b[0m\n\u001b[0;32m    168\u001b[0m             \u001b[0mself\u001b[0m\u001b[1;33m.\u001b[0m\u001b[0m_readable\u001b[0m \u001b[1;33m=\u001b[0m \u001b[1;32mFalse\u001b[0m\u001b[1;33m\u001b[0m\u001b[1;33m\u001b[0m\u001b[0m\n\u001b[0;32m    169\u001b[0m             \u001b[1;32mreturn\u001b[0m\u001b[1;33m\u001b[0m\u001b[1;33m\u001b[0m\u001b[0m\n\u001b[1;32m--> 170\u001b[1;33m         \u001b[0mrep\u001b[0m \u001b[1;33m=\u001b[0m \u001b[0mself\u001b[0m\u001b[1;33m.\u001b[0m\u001b[0m_repr\u001b[0m\u001b[1;33m(\u001b[0m\u001b[0mobject\u001b[0m\u001b[1;33m,\u001b[0m \u001b[0mcontext\u001b[0m\u001b[1;33m,\u001b[0m \u001b[0mlevel\u001b[0m\u001b[1;33m)\u001b[0m\u001b[1;33m\u001b[0m\u001b[1;33m\u001b[0m\u001b[0m\n\u001b[0m\u001b[0;32m    171\u001b[0m         \u001b[0mmax_width\u001b[0m \u001b[1;33m=\u001b[0m \u001b[0mself\u001b[0m\u001b[1;33m.\u001b[0m\u001b[0m_width\u001b[0m \u001b[1;33m-\u001b[0m \u001b[0mindent\u001b[0m \u001b[1;33m-\u001b[0m \u001b[0mallowance\u001b[0m\u001b[1;33m\u001b[0m\u001b[1;33m\u001b[0m\u001b[0m\n\u001b[0;32m    172\u001b[0m         \u001b[1;32mif\u001b[0m \u001b[0mlen\u001b[0m\u001b[1;33m(\u001b[0m\u001b[0mrep\u001b[0m\u001b[1;33m)\u001b[0m \u001b[1;33m>\u001b[0m \u001b[0mmax_width\u001b[0m\u001b[1;33m:\u001b[0m\u001b[1;33m\u001b[0m\u001b[1;33m\u001b[0m\u001b[0m\n",
      "\u001b[1;32m~\\miniconda3\\lib\\pprint.py\u001b[0m in \u001b[0;36m_repr\u001b[1;34m(self, object, context, level)\u001b[0m\n\u001b[0;32m    429\u001b[0m \u001b[1;33m\u001b[0m\u001b[0m\n\u001b[0;32m    430\u001b[0m     \u001b[1;32mdef\u001b[0m \u001b[0m_repr\u001b[0m\u001b[1;33m(\u001b[0m\u001b[0mself\u001b[0m\u001b[1;33m,\u001b[0m \u001b[0mobject\u001b[0m\u001b[1;33m,\u001b[0m \u001b[0mcontext\u001b[0m\u001b[1;33m,\u001b[0m \u001b[0mlevel\u001b[0m\u001b[1;33m)\u001b[0m\u001b[1;33m:\u001b[0m\u001b[1;33m\u001b[0m\u001b[1;33m\u001b[0m\u001b[0m\n\u001b[1;32m--> 431\u001b[1;33m         repr, readable, recursive = self.format(object, context.copy(),\n\u001b[0m\u001b[0;32m    432\u001b[0m                                                 self._depth, level)\n\u001b[0;32m    433\u001b[0m         \u001b[1;32mif\u001b[0m \u001b[1;32mnot\u001b[0m \u001b[0mreadable\u001b[0m\u001b[1;33m:\u001b[0m\u001b[1;33m\u001b[0m\u001b[1;33m\u001b[0m\u001b[0m\n",
      "\u001b[1;32m~\\miniconda3\\lib\\site-packages\\sklearn\\utils\\_pprint.py\u001b[0m in \u001b[0;36mformat\u001b[1;34m(self, object, context, maxlevels, level)\u001b[0m\n\u001b[0;32m    187\u001b[0m \u001b[1;33m\u001b[0m\u001b[0m\n\u001b[0;32m    188\u001b[0m     \u001b[1;32mdef\u001b[0m \u001b[0mformat\u001b[0m\u001b[1;33m(\u001b[0m\u001b[0mself\u001b[0m\u001b[1;33m,\u001b[0m \u001b[0mobject\u001b[0m\u001b[1;33m,\u001b[0m \u001b[0mcontext\u001b[0m\u001b[1;33m,\u001b[0m \u001b[0mmaxlevels\u001b[0m\u001b[1;33m,\u001b[0m \u001b[0mlevel\u001b[0m\u001b[1;33m)\u001b[0m\u001b[1;33m:\u001b[0m\u001b[1;33m\u001b[0m\u001b[1;33m\u001b[0m\u001b[0m\n\u001b[1;32m--> 189\u001b[1;33m         return _safe_repr(\n\u001b[0m\u001b[0;32m    190\u001b[0m             \u001b[0mobject\u001b[0m\u001b[1;33m,\u001b[0m \u001b[0mcontext\u001b[0m\u001b[1;33m,\u001b[0m \u001b[0mmaxlevels\u001b[0m\u001b[1;33m,\u001b[0m \u001b[0mlevel\u001b[0m\u001b[1;33m,\u001b[0m \u001b[0mchanged_only\u001b[0m\u001b[1;33m=\u001b[0m\u001b[0mself\u001b[0m\u001b[1;33m.\u001b[0m\u001b[0m_changed_only\u001b[0m\u001b[1;33m\u001b[0m\u001b[1;33m\u001b[0m\u001b[0m\n\u001b[0;32m    191\u001b[0m         )\n",
      "\u001b[1;32m~\\miniconda3\\lib\\site-packages\\sklearn\\utils\\_pprint.py\u001b[0m in \u001b[0;36m_safe_repr\u001b[1;34m(object, context, maxlevels, level, changed_only)\u001b[0m\n\u001b[0;32m    438\u001b[0m         \u001b[0mrecursive\u001b[0m \u001b[1;33m=\u001b[0m \u001b[1;32mFalse\u001b[0m\u001b[1;33m\u001b[0m\u001b[1;33m\u001b[0m\u001b[0m\n\u001b[0;32m    439\u001b[0m         \u001b[1;32mif\u001b[0m \u001b[0mchanged_only\u001b[0m\u001b[1;33m:\u001b[0m\u001b[1;33m\u001b[0m\u001b[1;33m\u001b[0m\u001b[0m\n\u001b[1;32m--> 440\u001b[1;33m             \u001b[0mparams\u001b[0m \u001b[1;33m=\u001b[0m \u001b[0m_changed_params\u001b[0m\u001b[1;33m(\u001b[0m\u001b[0mobject\u001b[0m\u001b[1;33m)\u001b[0m\u001b[1;33m\u001b[0m\u001b[1;33m\u001b[0m\u001b[0m\n\u001b[0m\u001b[0;32m    441\u001b[0m         \u001b[1;32melse\u001b[0m\u001b[1;33m:\u001b[0m\u001b[1;33m\u001b[0m\u001b[1;33m\u001b[0m\u001b[0m\n\u001b[0;32m    442\u001b[0m             \u001b[0mparams\u001b[0m \u001b[1;33m=\u001b[0m \u001b[0mobject\u001b[0m\u001b[1;33m.\u001b[0m\u001b[0mget_params\u001b[0m\u001b[1;33m(\u001b[0m\u001b[0mdeep\u001b[0m\u001b[1;33m=\u001b[0m\u001b[1;32mFalse\u001b[0m\u001b[1;33m)\u001b[0m\u001b[1;33m\u001b[0m\u001b[1;33m\u001b[0m\u001b[0m\n",
      "\u001b[1;32m~\\miniconda3\\lib\\site-packages\\sklearn\\utils\\_pprint.py\u001b[0m in \u001b[0;36m_changed_params\u001b[1;34m(estimator)\u001b[0m\n\u001b[0;32m     91\u001b[0m     estimator with non-default values.\"\"\"\n\u001b[0;32m     92\u001b[0m \u001b[1;33m\u001b[0m\u001b[0m\n\u001b[1;32m---> 93\u001b[1;33m     \u001b[0mparams\u001b[0m \u001b[1;33m=\u001b[0m \u001b[0mestimator\u001b[0m\u001b[1;33m.\u001b[0m\u001b[0mget_params\u001b[0m\u001b[1;33m(\u001b[0m\u001b[0mdeep\u001b[0m\u001b[1;33m=\u001b[0m\u001b[1;32mFalse\u001b[0m\u001b[1;33m)\u001b[0m\u001b[1;33m\u001b[0m\u001b[1;33m\u001b[0m\u001b[0m\n\u001b[0m\u001b[0;32m     94\u001b[0m     \u001b[0minit_func\u001b[0m \u001b[1;33m=\u001b[0m \u001b[0mgetattr\u001b[0m\u001b[1;33m(\u001b[0m\u001b[0mestimator\u001b[0m\u001b[1;33m.\u001b[0m\u001b[0m__init__\u001b[0m\u001b[1;33m,\u001b[0m \u001b[1;34m\"deprecated_original\"\u001b[0m\u001b[1;33m,\u001b[0m \u001b[0mestimator\u001b[0m\u001b[1;33m.\u001b[0m\u001b[0m__init__\u001b[0m\u001b[1;33m)\u001b[0m\u001b[1;33m\u001b[0m\u001b[1;33m\u001b[0m\u001b[0m\n\u001b[0;32m     95\u001b[0m     \u001b[0minit_params\u001b[0m \u001b[1;33m=\u001b[0m \u001b[0minspect\u001b[0m\u001b[1;33m.\u001b[0m\u001b[0msignature\u001b[0m\u001b[1;33m(\u001b[0m\u001b[0minit_func\u001b[0m\u001b[1;33m)\u001b[0m\u001b[1;33m.\u001b[0m\u001b[0mparameters\u001b[0m\u001b[1;33m\u001b[0m\u001b[1;33m\u001b[0m\u001b[0m\n",
      "\u001b[1;32m~\\miniconda3\\lib\\site-packages\\sklearn\\base.py\u001b[0m in \u001b[0;36mget_params\u001b[1;34m(self, deep)\u001b[0m\n\u001b[0;32m    203\u001b[0m         \u001b[0mout\u001b[0m \u001b[1;33m=\u001b[0m \u001b[0mdict\u001b[0m\u001b[1;33m(\u001b[0m\u001b[1;33m)\u001b[0m\u001b[1;33m\u001b[0m\u001b[1;33m\u001b[0m\u001b[0m\n\u001b[0;32m    204\u001b[0m         \u001b[1;32mfor\u001b[0m \u001b[0mkey\u001b[0m \u001b[1;32min\u001b[0m \u001b[0mself\u001b[0m\u001b[1;33m.\u001b[0m\u001b[0m_get_param_names\u001b[0m\u001b[1;33m(\u001b[0m\u001b[1;33m)\u001b[0m\u001b[1;33m:\u001b[0m\u001b[1;33m\u001b[0m\u001b[1;33m\u001b[0m\u001b[0m\n\u001b[1;32m--> 205\u001b[1;33m             \u001b[0mvalue\u001b[0m \u001b[1;33m=\u001b[0m \u001b[0mgetattr\u001b[0m\u001b[1;33m(\u001b[0m\u001b[0mself\u001b[0m\u001b[1;33m,\u001b[0m \u001b[0mkey\u001b[0m\u001b[1;33m)\u001b[0m\u001b[1;33m\u001b[0m\u001b[1;33m\u001b[0m\u001b[0m\n\u001b[0m\u001b[0;32m    206\u001b[0m             \u001b[1;32mif\u001b[0m \u001b[0mdeep\u001b[0m \u001b[1;32mand\u001b[0m \u001b[0mhasattr\u001b[0m\u001b[1;33m(\u001b[0m\u001b[0mvalue\u001b[0m\u001b[1;33m,\u001b[0m \u001b[1;34m\"get_params\"\u001b[0m\u001b[1;33m)\u001b[0m\u001b[1;33m:\u001b[0m\u001b[1;33m\u001b[0m\u001b[1;33m\u001b[0m\u001b[0m\n\u001b[0;32m    207\u001b[0m                 \u001b[0mdeep_items\u001b[0m \u001b[1;33m=\u001b[0m \u001b[0mvalue\u001b[0m\u001b[1;33m.\u001b[0m\u001b[0mget_params\u001b[0m\u001b[1;33m(\u001b[0m\u001b[1;33m)\u001b[0m\u001b[1;33m.\u001b[0m\u001b[0mitems\u001b[0m\u001b[1;33m(\u001b[0m\u001b[1;33m)\u001b[0m\u001b[1;33m\u001b[0m\u001b[1;33m\u001b[0m\u001b[0m\n",
      "\u001b[1;31mAttributeError\u001b[0m: 'NN_sklearn' object has no attribute 'hidden_dim'"
     ]
    },

   ],
   "source": [
    "NN_sk = NN_sklearn(256, 10, 64, 32)\n",
    "\n",
    "NN_sk.fit(X_train, y_train)"
   ]
  },
  {
   "cell_type": "markdown",
   "id": "2092d82a",
   "metadata": {},
   "source": [
    "__(d)__ Evaluate out NN in our test set"
   ]
  },
  {
   "cell_type": "code",
   "execution_count": 70,
   "id": "92af59ed",
   "metadata": {},
   "outputs": [
    {
     "name": "stdout",
     "output_type": "stream",
     "text": [
      "Sklearn combatible NN 0.9147982062780269\n"
     ]
    }
   ],
   "source": [
    "print(\"Sklearn combatible NN \" + str(NN_sk.score(X_test, y_test)))"
   ]
  }
 ],
 "metadata": {
  "kernelspec": {
   "display_name": "Python 3 (ipykernel)",
   "language": "python",
   "name": "python3"
  },
  "language_info": {
   "codemirror_mode": {
    "name": "ipython",
    "version": 3
   },
   "file_extension": ".py",
   "mimetype": "text/x-python",
   "name": "python",
   "nbconvert_exporter": "python",
   "pygments_lexer": "ipython3",
   "version": "3.9.5"
  }
 },
 "nbformat": 4,
 "nbformat_minor": 5
}
